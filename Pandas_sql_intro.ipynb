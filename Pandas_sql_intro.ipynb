{
 "cells": [
  {
   "cell_type": "markdown",
   "metadata": {
    "colab_type": "text",
    "id": "K7T0QXeOVCtx"
   },
   "source": [
    "# Python libraries and databases"
   ]
  },
  {
   "cell_type": "markdown",
   "metadata": {},
   "source": [
    "<div style=\"background: #CCFFCC; padding: 0.5em\"><h1>About this notebook and its embedded assignments</h1>\n",
    "<p>This notebook moves somewhat quickly through some challenging topics. It introduces new things, and also has four exercises embedded at various points. You don't need to understand and learn everything at once. An important step in ongoing learning with material like this is becoming adept at picking up clues from context, exploring on your own, modifying code as a path to understanding it, and deferring some things so that you can come back to them later.</p>\n",
    "    <p>The four exercises are not meant to be especially challenging on their own. They do ask you to fill in code in particular cells. Please execute <b>all</b> the cells in the notebook, <b>including</b> the cells with your exercises, so that the output is visible below each cell (whenever there is output). Then save that version of the notebook and upload it to Canvas. </p></div>"
   ]
  },
  {
   "cell_type": "markdown",
   "metadata": {
    "colab_type": "text",
    "id": "6wWBA_sZVCtz"
   },
   "source": [
    "Earlier we learned some basic features of the Python language. Although there is more to learn about fundamental features of Python, for many particular tasks a lot of the value of a programming language comes from using libraries of code that other people have written to do specialized things. Python has an especially rich ecosystem of libraries across a wide range of tasks, from text processing to web programming to statistics and machine learning. \n",
    "\n",
    "To use a library in our own code, we have to \"import\" it, that is, tell the Python interpreter that we are going to use it. \n",
    "\n",
    "Good common practice is to put all `import` statements at the top of a file, but for pedagogical purposes in this notebook they will be imported throughout, one by one, as needed.\n",
    "\n",
    "Some libraries are built into Python, and many additional libraries are included with the Anaconda distribution of Python. If a library isn't already installed to be available for import on the local system, it will first have to be installed, perhaps using the Anaconda Navigator environment manager, or using \"conda\" or \"pip\" on the command line. For this exercise we will be using libraries that should be included with Anaconda already, so I hope you don't have to worry for now about \"conda\" or \"pip\". If you keep working with Python, at some point you will need them.\n",
    "\n",
    "<hr/>"
   ]
  },
  {
   "cell_type": "markdown",
   "metadata": {
    "colab_type": "text",
    "id": "IJUhatbYVVOS"
   },
   "source": [
    "<h2 style=\"background: #FFCCCC; padding: 1em\">Setup information <b>if</b> you are using Google Colab</h2>\n",
    "\n",
    "Google Colab starts up a new virtual machine for you when you run a notebook. It has its own RAM and its own local storage. Although you can use this storage space and upload and download files from it, the storage itself disappears when the notebook stops and the virtual machine shuts down. \n",
    "\n",
    "To get longer-term storage, you can connect Colab with Google Drive, and get access to files you have stored there, or store new files there. If the code in the next cell weren't already there for you, you could click on \"Mount drive\" in the Files tab of the Table of Contents to the left, and it would fill in that code for you.\n",
    "\n",
    "When you run the next cell, you'll import `drive` from the Google Colab module, and then use the `mount` method to map your Google Drive storage to a path in in the filesystem of the virtual machine that your Colab instance is running for you. There is an interactive step that requires you to click through, give your authorization so that your Colab instance can access your Google Drive, and then paste an authorization code so that your Colab instance can authenticate itself."
   ]
  },
  {
   "cell_type": "code",
   "execution_count": null,
   "metadata": {
    "colab": {
     "base_uri": "https://localhost:8080/",
     "height": 127
    },
    "colab_type": "code",
    "id": "BC3aSCW-VUsf",
    "outputId": "e18e3c8b-a82d-481c-f114-ff5f505458d4"
   },
   "outputs": [],
   "source": [
    "from google.colab import drive\n",
    "drive.mount('/content/drive')"
   ]
  },
  {
   "cell_type": "markdown",
   "metadata": {
    "colab_type": "text",
    "id": "yGJYXqC-cTkU"
   },
   "source": [
    "### Uploading\n",
    "\n",
    "I created a folder called `iph430` in my Google Drive account, and then uploaded the `bookcrossing.sqlite` to that folder. You can choose a different structure or name if you like, and will have to adjust your paths accordingly. "
   ]
  },
  {
   "cell_type": "code",
   "execution_count": null,
   "metadata": {
    "colab": {
     "base_uri": "https://localhost:8080/",
     "height": 75,
     "resources": {
      "http://localhost:8080/nbextensions/google.colab/files.js": {
       "data": "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",
       "headers": [
        [
         "content-type",
         "application/javascript"
        ]
       ],
       "ok": true,
       "status": 200,
       "status_text": ""
      }
     }
    },
    "colab_type": "code",
    "id": "MZjpBUtCVWhV",
    "outputId": "1d1faffe-47bf-470c-f7be-aedfcae3ba0c"
   },
   "outputs": [],
   "source": [
    "### Here's another option that would upload a file to a temporary space (not on Google Drive) where your notebook is running. \n",
    "### It's much slower, in my experience, but it's an option. You would need to uncomment the next two lines to get them to run.\n",
    "### But I would advise ignoring these cells and just uploading through the Google Drive interface.\n",
    "\n",
    "# from google.colab import files\n",
    "# files.upload()"
   ]
  },
  {
   "cell_type": "code",
   "execution_count": null,
   "metadata": {
    "colab": {},
    "colab_type": "code",
    "id": "L6s2S5c1aXvZ"
   },
   "outputs": [],
   "source": [
    "### If you followed that `files.upload()` option and wanted to move the file to Google Drive, you could \n",
    "### uncomment and run the last two lines in this cell.\n",
    "### (A line starting with ! is interpreted as a shell command rather than Python code.)\n",
    "\n",
    "# !mkdir -p /content/drive/My\\ Drive/iph430/bookcrossing.sqlite3\n",
    "# !mv bookcrossing.sqlite3 /content/drive/My\\ Drive/iph430/bookcrossing.sqlite3"
   ]
  },
  {
   "cell_type": "markdown",
   "metadata": {},
   "source": [
    "<h2 style=\"background: #FFCCCC; padding: 1em\">[End of special setup for Google Colab]</h2>\n",
    "<hr/>"
   ]
  },
  {
   "cell_type": "markdown",
   "metadata": {
    "colab_type": "text",
    "id": "hxnNXTvCVCt0"
   },
   "source": [
    "# Connecting to a SQLite database"
   ]
  },
  {
   "cell_type": "markdown",
   "metadata": {
    "colab_type": "text",
    "id": "5xWtzJrUVCt1"
   },
   "source": [
    "Here is how we import a library. After running the next cell, nothing will have changed except the capacity of our environment, which will now understand references to the `sqlite` library and its contents."
   ]
  },
  {
   "cell_type": "code",
   "execution_count": 1,
   "metadata": {
    "colab": {},
    "colab_type": "code",
    "id": "HiiqiO71VCt2"
   },
   "outputs": [],
   "source": [
    "import sqlite3"
   ]
  },
  {
   "cell_type": "markdown",
   "metadata": {
    "colab_type": "text",
    "id": "lW9gWiE1VCt5"
   },
   "source": [
    "Now if we evaluate the name `sqlite3`, we will see that it's a \"module\" object of some kind. That's basically another way of saying \"library\"."
   ]
  },
  {
   "cell_type": "code",
   "execution_count": 2,
   "metadata": {
    "colab": {
     "base_uri": "https://localhost:8080/",
     "height": 35
    },
    "colab_type": "code",
    "id": "e93r_3FuVCt5",
    "outputId": "5b9bb3b2-e16f-4899-c007-02adb9fdc10f"
   },
   "outputs": [
    {
     "data": {
      "text/plain": [
       "<module 'sqlite3' from '/home/knoxdw/anaconda3/lib/python3.9/sqlite3/__init__.py'>"
      ]
     },
     "execution_count": 2,
     "metadata": {},
     "output_type": "execute_result"
    }
   ],
   "source": [
    "sqlite3"
   ]
  },
  {
   "cell_type": "markdown",
   "metadata": {
    "colab_type": "text",
    "id": "4plgSyR1VCt8"
   },
   "source": [
    "If you are running locally and didn't need to do the Google Colab setup, find the path to your bookcrossing SQLite data file, or move or upload a copy of the file so that it is in the same place where you are running this Jupyter notebook.\n",
    "\n",
    "Modify the path in the next cell as needed, and then when you evaluate the cell, you should have an open connection to your SQLite database.\n",
    "\n",
    "The connection is like hooking up a hose to a pipe without turning on the valve. It prepares a connection, but it doesn't yet make any data flow through the pipe."
   ]
  },
  {
   "cell_type": "code",
   "execution_count": 3,
   "metadata": {
    "colab": {},
    "colab_type": "code",
    "id": "tVPfzNaSVCt9"
   },
   "outputs": [],
   "source": [
    "# A path on Google Drive may look like this, adjusting folder names as needed:\n",
    "\n",
    "# conn = sqlite3.connect(\"/content/drive/My Drive/iph430/bookcrossing.sqlite3\")\n",
    "\n",
    "# A local path may be similar, starting with '/Users/...', \n",
    "# or could just be a relative path to the filename, if your notebook \n",
    "# is in the same directory as your SQLite file.:\n",
    "\n",
    "conn = sqlite3.connect(\"bookcrossing.sqlite3\")\n"
   ]
  },
  {
   "cell_type": "markdown",
   "metadata": {},
   "source": [
    "The connection is like hooking up a hose to a pipe without turning on the valve. It prepares a connection, but it doesn't yet make any data flow through the pipe. The variable `conn` is a connection object."
   ]
  },
  {
   "cell_type": "code",
   "execution_count": 4,
   "metadata": {
    "colab": {
     "base_uri": "https://localhost:8080/",
     "height": 35
    },
    "colab_type": "code",
    "id": "jryoR3IbVCt_",
    "outputId": "dd4c19e0-fc28-422b-a634-e8a23f815723"
   },
   "outputs": [
    {
     "data": {
      "text/plain": [
       "<sqlite3.Connection at 0x7fa2f9281c60>"
      ]
     },
     "execution_count": 4,
     "metadata": {},
     "output_type": "execute_result"
    }
   ],
   "source": [
    "conn"
   ]
  },
  {
   "cell_type": "markdown",
   "metadata": {
    "colab_type": "text",
    "id": "wH7V9EToVCuC"
   },
   "source": [
    "We can now pass a SQL query to the database through this connection. The result we get back is commonly called a \"cursor.\" It's not directly a list of results, but an object through which we can get back one or more results, as well as other information about the running of the query."
   ]
  },
  {
   "cell_type": "code",
   "execution_count": 5,
   "metadata": {
    "colab": {},
    "colab_type": "code",
    "id": "forYnPYFVCuD"
   },
   "outputs": [],
   "source": [
    "cursor = conn.execute(\"SELECT * FROM books LIMIT 10;\")"
   ]
  },
  {
   "cell_type": "markdown",
   "metadata": {
    "colab_type": "text",
    "id": "UFR6D9xOVCuF"
   },
   "source": [
    "To actually get back all the results, let's call the `fetchall` method. There are other methods, like `fetchone`, that give us options for how much data we ask for at once."
   ]
  },
  {
   "cell_type": "code",
   "execution_count": 6,
   "metadata": {
    "colab": {},
    "colab_type": "code",
    "id": "FpXSyqywVCuG"
   },
   "outputs": [],
   "source": [
    "results = cursor.fetchall()"
   ]
  },
  {
   "cell_type": "code",
   "execution_count": 7,
   "metadata": {
    "colab": {
     "base_uri": "https://localhost:8080/",
     "height": 35
    },
    "colab_type": "code",
    "id": "YaUo414HVCuJ",
    "outputId": "709ead65-3352-4980-bb1c-a9c94e7d3366"
   },
   "outputs": [
    {
     "data": {
      "text/plain": [
       "10"
      ]
     },
     "execution_count": 7,
     "metadata": {},
     "output_type": "execute_result"
    }
   ],
   "source": [
    "len(results)"
   ]
  },
  {
   "cell_type": "code",
   "execution_count": 8,
   "metadata": {
    "colab": {
     "base_uri": "https://localhost:8080/",
     "height": 107
    },
    "colab_type": "code",
    "id": "1H5ZEVsHVCuM",
    "outputId": "551103e6-d98b-4ab1-fdc7-2e32b07339a9"
   },
   "outputs": [
    {
     "data": {
      "text/plain": [
       "('0195153448',\n",
       " 'Classical Mythology',\n",
       " 'Mark P. O. Morford',\n",
       " 2002,\n",
       " 'Oxford University Press')"
      ]
     },
     "execution_count": 8,
     "metadata": {},
     "output_type": "execute_result"
    }
   ],
   "source": [
    "results[0]"
   ]
  },
  {
   "cell_type": "markdown",
   "metadata": {},
   "source": [
    "The column names are available through the cursor object."
   ]
  },
  {
   "cell_type": "code",
   "execution_count": 9,
   "metadata": {},
   "outputs": [
    {
     "data": {
      "text/plain": [
       "(('ISBN', None, None, None, None, None, None),\n",
       " ('title', None, None, None, None, None, None),\n",
       " ('author', None, None, None, None, None, None),\n",
       " ('year', None, None, None, None, None, None),\n",
       " ('publisher', None, None, None, None, None, None))"
      ]
     },
     "execution_count": 9,
     "metadata": {},
     "output_type": "execute_result"
    }
   ],
   "source": [
    "cursor.description"
   ]
  },
  {
   "cell_type": "markdown",
   "metadata": {},
   "source": [
    "We can use a Python \"list comprehension\" (a kind of in-line loop that iterates over one sequence to build up a new list) to make a simple list of column names."
   ]
  },
  {
   "cell_type": "code",
   "execution_count": 10,
   "metadata": {
    "colab": {},
    "colab_type": "code",
    "id": "PKTdhI8GVCuO"
   },
   "outputs": [
    {
     "data": {
      "text/plain": [
       "['ISBN', 'title', 'author', 'year', 'publisher']"
      ]
     },
     "execution_count": 10,
     "metadata": {},
     "output_type": "execute_result"
    }
   ],
   "source": [
    "columns = [c[0] for c in cursor.description]\n",
    "columns"
   ]
  },
  {
   "cell_type": "markdown",
   "metadata": {
    "colab_type": "text",
    "id": "9DlXiUY2pGiT"
   },
   "source": [
    "There are various ways to format strings in Python. The first print statement below uses `f-strings`, which provide a convenient way to format data within text strings with a kind of template structure marked by curly braces."
   ]
  },
  {
   "cell_type": "code",
   "execution_count": 11,
   "metadata": {
    "colab": {
     "base_uri": "https://localhost:8080/",
     "height": 1000
    },
    "colab_type": "code",
    "id": "lnojuIt1VCuQ",
    "outputId": "8218f075-eced-4f29-94b6-2a40f429d5ad"
   },
   "outputs": [
    {
     "name": "stdout",
     "output_type": "stream",
     "text": [
      "                ISBN:  0195153448\n",
      "               title:  Classical Mythology\n",
      "              author:  Mark P. O. Morford\n",
      "                year:  2002\n",
      "           publisher:  Oxford University Press\n",
      "------------------------------------------------------------\n",
      "                ISBN:  0002005018\n",
      "               title:  Clara Callan\n",
      "              author:  Richard Bruce Wright\n",
      "                year:  2001\n",
      "           publisher:  HarperFlamingo Canada\n",
      "------------------------------------------------------------\n",
      "                ISBN:  0060973129\n",
      "               title:  Decision in Normandy\n",
      "              author:  Carlo D'Este\n",
      "                year:  1991\n",
      "           publisher:  HarperPerennial\n",
      "------------------------------------------------------------\n",
      "                ISBN:  0374157065\n",
      "               title:  Flu: The Story of the Great Influenza Pandemic of 1918 and the Search for the Virus That Caused It\n",
      "              author:  Gina Bari Kolata\n",
      "                year:  1999\n",
      "           publisher:  Farrar Straus Giroux\n",
      "------------------------------------------------------------\n",
      "                ISBN:  0393045218\n",
      "               title:  The Mummies of Urumchi\n",
      "              author:  E. J. W. Barber\n",
      "                year:  1999\n",
      "           publisher:  W. W. Norton & Company\n",
      "------------------------------------------------------------\n",
      "                ISBN:  0399135782\n",
      "               title:  The Kitchen God's Wife\n",
      "              author:  Amy Tan\n",
      "                year:  1991\n",
      "           publisher:  Putnam Pub Group\n",
      "------------------------------------------------------------\n",
      "                ISBN:  0425176428\n",
      "               title:  What If?: The World's Foremost Military Historians Imagine What Might Have Been\n",
      "              author:  Robert Cowley\n",
      "                year:  2000\n",
      "           publisher:  Berkley Publishing Group\n",
      "------------------------------------------------------------\n",
      "                ISBN:  0671870432\n",
      "               title:  PLEADING GUILTY\n",
      "              author:  Scott Turow\n",
      "                year:  1993\n",
      "           publisher:  Audioworks\n",
      "------------------------------------------------------------\n",
      "                ISBN:  0679425608\n",
      "               title:  Under the Black Flag: The Romance and the Reality of Life Among the Pirates\n",
      "              author:  David Cordingly\n",
      "                year:  1996\n",
      "           publisher:  Random House\n",
      "------------------------------------------------------------\n",
      "                ISBN:  074322678X\n",
      "               title:  Where You'll Find Me: And Other Stories\n",
      "              author:  Ann Beattie\n",
      "                year:  2002\n",
      "           publisher:  Scribner\n",
      "------------------------------------------------------------\n"
     ]
    }
   ],
   "source": [
    "for result in results:\n",
    "    for (i, field) in enumerate(result):\n",
    "        print(f\"{columns[i]:>20s}:  {field}\")\n",
    "    print(\"-\" * 60)"
   ]
  },
  {
   "cell_type": "markdown",
   "metadata": {},
   "source": [
    "<div style=\"background: #CCFFCC; padding: 0.5em\"><h1>Exercise 1</h1>\n",
    "   The cell below contains a copy of the cell above. Modify it so that instead of 20 spaces, it gives 30 spaces to the field names, and modify the end-of-record divider so that it prints 80 hyphens instead of 60. Then run the cell and compare outputs.\n",
    "    </div>"
   ]
  },
  {
   "cell_type": "code",
   "execution_count": 15,
   "metadata": {},
   "outputs": [
    {
     "name": "stdout",
     "output_type": "stream",
     "text": [
      "                ISBN:  0195153448\n",
      "               title:  Classical Mythology\n",
      "              author:  Mark P. O. Morford\n",
      "                year:  2002\n",
      "           publisher:  Oxford University Press\n",
      "------------------------------------------------------------\n",
      "                ISBN:  0002005018\n",
      "               title:  Clara Callan\n",
      "              author:  Richard Bruce Wright\n",
      "                year:  2001\n",
      "           publisher:  HarperFlamingo Canada\n",
      "------------------------------------------------------------\n",
      "                ISBN:  0060973129\n",
      "               title:  Decision in Normandy\n",
      "              author:  Carlo D'Este\n",
      "                year:  1991\n",
      "           publisher:  HarperPerennial\n",
      "------------------------------------------------------------\n",
      "                ISBN:  0374157065\n",
      "               title:  Flu: The Story of the Great Influenza Pandemic of 1918 and the Search for the Virus That Caused It\n",
      "              author:  Gina Bari Kolata\n",
      "                year:  1999\n",
      "           publisher:  Farrar Straus Giroux\n",
      "------------------------------------------------------------\n",
      "                ISBN:  0393045218\n",
      "               title:  The Mummies of Urumchi\n",
      "              author:  E. J. W. Barber\n",
      "                year:  1999\n",
      "           publisher:  W. W. Norton & Company\n",
      "------------------------------------------------------------\n",
      "                ISBN:  0399135782\n",
      "               title:  The Kitchen God's Wife\n",
      "              author:  Amy Tan\n",
      "                year:  1991\n",
      "           publisher:  Putnam Pub Group\n",
      "------------------------------------------------------------\n",
      "                ISBN:  0425176428\n",
      "               title:  What If?: The World's Foremost Military Historians Imagine What Might Have Been\n",
      "              author:  Robert Cowley\n",
      "                year:  2000\n",
      "           publisher:  Berkley Publishing Group\n",
      "------------------------------------------------------------\n",
      "                ISBN:  0671870432\n",
      "               title:  PLEADING GUILTY\n",
      "              author:  Scott Turow\n",
      "                year:  1993\n",
      "           publisher:  Audioworks\n",
      "------------------------------------------------------------\n",
      "                ISBN:  0679425608\n",
      "               title:  Under the Black Flag: The Romance and the Reality of Life Among the Pirates\n",
      "              author:  David Cordingly\n",
      "                year:  1996\n",
      "           publisher:  Random House\n",
      "------------------------------------------------------------\n",
      "                ISBN:  074322678X\n",
      "               title:  Where You'll Find Me: And Other Stories\n",
      "              author:  Ann Beattie\n",
      "                year:  2002\n",
      "           publisher:  Scribner\n",
      "------------------------------------------------------------\n"
     ]
    }
   ],
   "source": [
    "# EXERCISE 1\n",
    "for result in results:\n",
    "    for (i, field) in enumerate(result):\n",
    "        print(f\"{columns[i]:>20s}:  {field}\")\n",
    "    print(\"-\" * 60)"
   ]
  },
  {
   "cell_type": "markdown",
   "metadata": {},
   "source": [
    "<hr/>"
   ]
  },
  {
   "cell_type": "markdown",
   "metadata": {},
   "source": [
    "# Getting a table of all the data\n",
    "\n",
    "Now let's get all the data into one big Python list, using SQL to do the join. \n",
    "\n",
    "If you don't already have the `crossingdata` view in your SQLite database, the next cell will create it. The triple quotation marks allow us to have a multi-line string in Python."
   ]
  },
  {
   "cell_type": "code",
   "execution_count": 16,
   "metadata": {},
   "outputs": [],
   "source": [
    "cursor = conn.execute(\"\"\"CREATE VIEW IF NOT EXISTS crossingdata AS \n",
    "SELECT books.ISBN, title, author, year, publisher, users.userid, rating, location\n",
    "FROM books JOIN ratings ON books.ISBN = ratings.ISBN \n",
    "           JOIN users ON users.userid = ratings.userid;\"\"\")"
   ]
  },
  {
   "cell_type": "markdown",
   "metadata": {},
   "source": [
    "Now we can get all that data from the view."
   ]
  },
  {
   "cell_type": "code",
   "execution_count": 17,
   "metadata": {
    "colab": {},
    "colab_type": "code",
    "id": "yg3fkYhpVCuT"
   },
   "outputs": [],
   "source": [
    "cursor = conn.execute(\"SELECT * FROM crossingdata;\")\n",
    "results = cursor.fetchall()"
   ]
  },
  {
   "cell_type": "markdown",
   "metadata": {
    "colab_type": "text",
    "id": "gZ_tmNeipPgE"
   },
   "source": [
    "Now we have results as a regular Python list of tuples of strings. We can take the length of the list, index into the list, and iterate over the list in the usual ways."
   ]
  },
  {
   "cell_type": "code",
   "execution_count": 18,
   "metadata": {
    "colab": {
     "base_uri": "https://localhost:8080/",
     "height": 35
    },
    "colab_type": "code",
    "id": "jlIp51aqVCuV",
    "outputId": "94f23288-72d9-40d7-f709-d4d841391425"
   },
   "outputs": [
    {
     "data": {
      "text/plain": [
       "443586"
      ]
     },
     "execution_count": 18,
     "metadata": {},
     "output_type": "execute_result"
    }
   ],
   "source": [
    "len(results)"
   ]
  },
  {
   "cell_type": "code",
   "execution_count": 19,
   "metadata": {
    "colab": {
     "base_uri": "https://localhost:8080/",
     "height": 161
    },
    "colab_type": "code",
    "id": "atiiH9p-VCuY",
    "outputId": "a7d9e809-8557-460d-869a-43d4629678b9"
   },
   "outputs": [
    {
     "data": {
      "text/plain": [
       "('0195153448',\n",
       " 'Classical Mythology',\n",
       " 'Mark P. O. Morford',\n",
       " 2002,\n",
       " 'Oxford University Press',\n",
       " 2,\n",
       " 0,\n",
       " 'stockton, california, usa')"
      ]
     },
     "execution_count": 19,
     "metadata": {},
     "output_type": "execute_result"
    }
   ],
   "source": [
    "results[0]"
   ]
  },
  {
   "cell_type": "markdown",
   "metadata": {
    "colab_type": "text",
    "id": "gMC6evK3panq"
   },
   "source": [
    "We could use a \"for\" loop to build up a list by appending to a variable, but there are other options.\n",
    "\n",
    "The syntax below is called a `list comprehension`, and in Python it's a typical way of building up a list by iterating over an existing list. \n",
    "\n",
    "Since location is the last column, or the last value in the tuple, when `result` is a tuple like the one above, `result[-1]` gives us the last value, which is the location."
   ]
  },
  {
   "cell_type": "code",
   "execution_count": 20,
   "metadata": {
    "colab": {},
    "colab_type": "code",
    "id": "16wKIFQYVCua"
   },
   "outputs": [],
   "source": [
    "locations = [result[-1] for result in results]"
   ]
  },
  {
   "cell_type": "markdown",
   "metadata": {},
   "source": [
    "Here are the first five:"
   ]
  },
  {
   "cell_type": "code",
   "execution_count": 21,
   "metadata": {
    "colab": {
     "base_uri": "https://localhost:8080/",
     "height": 107
    },
    "colab_type": "code",
    "id": "QuOogd2WVCuc",
    "outputId": "e297213e-2274-47d0-aeb2-e25eeb35a3bd"
   },
   "outputs": [
    {
     "data": {
      "text/plain": [
       "['stockton, california, usa',\n",
       " 'timmins, ontario, canada',\n",
       " 'ottawa, ontario, canada',\n",
       " 'comber, ontario, canada',\n",
       " 'guelph, ontario, canada']"
      ]
     },
     "execution_count": 21,
     "metadata": {},
     "output_type": "execute_result"
    }
   ],
   "source": [
    "locations[:5]"
   ]
  },
  {
   "cell_type": "markdown",
   "metadata": {},
   "source": [
    "<div style=\"background: #CCFFCC; padding: 0.5em\"><h1>Exercise 2</h1>\n",
    "   Modify the list comprehension that we used for locations to get a similar list of publishers.\n",
    "    </div>"
   ]
  },
  {
   "cell_type": "code",
   "execution_count": 37,
   "metadata": {},
   "outputs": [],
   "source": [
    "# Exercise 2\n",
    "publishers = _"
   ]
  },
  {
   "cell_type": "markdown",
   "metadata": {
    "colab_type": "text",
    "id": "eVd3wMq7p8g2"
   },
   "source": [
    "<hr/> Let's say we want to list and count just the countries. How can we extract countries from the location strings? \n",
    "\n",
    "This is the sort of job where string manipulation in Python can be much more convenient than string manipulation in SQL. \n",
    "\n",
    "Before we extract the country part of the string from hundreds of thousands of instances, let's work with just one string to figure out what we want to do."
   ]
  },
  {
   "cell_type": "code",
   "execution_count": 38,
   "metadata": {
    "colab": {},
    "colab_type": "code",
    "id": "WF6_P7swVCuf"
   },
   "outputs": [],
   "source": [
    "loc = locations[0]"
   ]
  },
  {
   "cell_type": "code",
   "execution_count": 39,
   "metadata": {},
   "outputs": [
    {
     "data": {
      "text/plain": [
       "'stockton, california, usa'"
      ]
     },
     "execution_count": 39,
     "metadata": {},
     "output_type": "execute_result"
    }
   ],
   "source": [
    "loc"
   ]
  },
  {
   "cell_type": "code",
   "execution_count": 40,
   "metadata": {
    "colab": {
     "base_uri": "https://localhost:8080/",
     "height": 35
    },
    "colab_type": "code",
    "id": "qT5n8hEmVCui",
    "outputId": "25eff1ef-715a-429e-e306-c94d4b16d1c5"
   },
   "outputs": [
    {
     "data": {
      "text/plain": [
       "['stockton', ' california', ' usa']"
      ]
     },
     "execution_count": 40,
     "metadata": {},
     "output_type": "execute_result"
    }
   ],
   "source": [
    "loc.split(\",\")"
   ]
  },
  {
   "cell_type": "code",
   "execution_count": 41,
   "metadata": {
    "colab": {
     "base_uri": "https://localhost:8080/",
     "height": 35
    },
    "colab_type": "code",
    "id": "TU4xTMtKVCuk",
    "outputId": "08633800-d132-404a-e468-d83e15dd564d"
   },
   "outputs": [
    {
     "data": {
      "text/plain": [
       "' usa'"
      ]
     },
     "execution_count": 41,
     "metadata": {},
     "output_type": "execute_result"
    }
   ],
   "source": [
    "loc.split(\",\")[-1]"
   ]
  },
  {
   "cell_type": "code",
   "execution_count": 42,
   "metadata": {
    "colab": {
     "base_uri": "https://localhost:8080/",
     "height": 35
    },
    "colab_type": "code",
    "id": "3cF3VADvVCuo",
    "outputId": "a0e3f872-1e31-496e-fc40-8aa696f60fd0"
   },
   "outputs": [
    {
     "data": {
      "text/plain": [
       "'usa'"
      ]
     },
     "execution_count": 42,
     "metadata": {},
     "output_type": "execute_result"
    }
   ],
   "source": [
    "loc.split(\",\")[-1].strip()"
   ]
  },
  {
   "cell_type": "markdown",
   "metadata": {
    "colab_type": "text",
    "id": "yQBpd3vRqc7s"
   },
   "source": [
    "Now we can run this on all the elements of the list by putting in a list comprehension that builds up a new list:"
   ]
  },
  {
   "cell_type": "code",
   "execution_count": 43,
   "metadata": {
    "colab": {},
    "colab_type": "code",
    "id": "WpRgsUjhVCur"
   },
   "outputs": [],
   "source": [
    "countries = [loc.split(\",\")[-1].strip() for loc in locations]"
   ]
  },
  {
   "cell_type": "code",
   "execution_count": 44,
   "metadata": {
    "colab": {
     "base_uri": "https://localhost:8080/",
     "height": 35
    },
    "colab_type": "code",
    "id": "Yv_FvJs8VCut",
    "outputId": "02c5788f-51a5-444d-da6e-22dbfed3de82"
   },
   "outputs": [
    {
     "data": {
      "text/plain": [
       "443586"
      ]
     },
     "execution_count": 44,
     "metadata": {},
     "output_type": "execute_result"
    }
   ],
   "source": [
    "len(countries)"
   ]
  },
  {
   "cell_type": "code",
   "execution_count": 45,
   "metadata": {},
   "outputs": [
    {
     "data": {
      "text/plain": [
       "['stockton, california, usa',\n",
       " 'timmins, ontario, canada',\n",
       " 'ottawa, ontario, canada',\n",
       " 'comber, ontario, canada',\n",
       " 'guelph, ontario, canada',\n",
       " 'halifax, nova scotia, canada',\n",
       " 'fredericton, new brunswick, canada',\n",
       " 'timmins, ontario, canada',\n",
       " 'wichita, kansas, usa',\n",
       " 'timmins, ontario, canada']"
      ]
     },
     "execution_count": 45,
     "metadata": {},
     "output_type": "execute_result"
    }
   ],
   "source": [
    "locations[:10]"
   ]
  },
  {
   "cell_type": "code",
   "execution_count": 46,
   "metadata": {
    "colab": {
     "base_uri": "https://localhost:8080/",
     "height": 197
    },
    "colab_type": "code",
    "id": "pNf4QosHVCuz",
    "outputId": "512e4f2f-b3c2-4099-98b6-5c7304248c8b"
   },
   "outputs": [
    {
     "data": {
      "text/plain": [
       "['usa',\n",
       " 'canada',\n",
       " 'canada',\n",
       " 'canada',\n",
       " 'canada',\n",
       " 'canada',\n",
       " 'canada',\n",
       " 'canada',\n",
       " 'usa',\n",
       " 'canada']"
      ]
     },
     "execution_count": 46,
     "metadata": {},
     "output_type": "execute_result"
    }
   ],
   "source": [
    "countries[:10]"
   ]
  },
  {
   "cell_type": "markdown",
   "metadata": {
    "colab_type": "text",
    "id": "vVan_u-qqvQx"
   },
   "source": [
    "We could write our own \"for\" loop and build up a dictionary to count how many instances of each value there are, but this is a common thing to want to do, and Python has a convenient library that makes this easy. The `collections` utility has many useful tools, but in this case we just need to import one of them:"
   ]
  },
  {
   "cell_type": "code",
   "execution_count": 47,
   "metadata": {
    "colab": {},
    "colab_type": "code",
    "id": "ztqTZoIQVCu1"
   },
   "outputs": [],
   "source": [
    "from collections import Counter"
   ]
  },
  {
   "cell_type": "code",
   "execution_count": 48,
   "metadata": {
    "colab": {},
    "colab_type": "code",
    "id": "zTauxwYtVCu3"
   },
   "outputs": [],
   "source": [
    "countrycount = Counter(countries)"
   ]
  },
  {
   "cell_type": "code",
   "execution_count": 49,
   "metadata": {
    "colab": {
     "base_uri": "https://localhost:8080/",
     "height": 377
    },
    "colab_type": "code",
    "id": "MQzaiN35VCu5",
    "outputId": "446c4d06-c1e7-4312-d8fa-9e3c9cf41a97"
   },
   "outputs": [
    {
     "data": {
      "text/plain": [
       "175"
      ]
     },
     "execution_count": 49,
     "metadata": {},
     "output_type": "execute_result"
    }
   ],
   "source": [
    "len(countrycount.most_common())"
   ]
  },
  {
   "cell_type": "markdown",
   "metadata": {
    "colab_type": "text",
    "id": "tCQdGbXNVCu8"
   },
   "source": [
    "## Pandas and Dataframes\n",
    "\n",
    "The Pandas library is a popular library for working with tabular data natively in Python. It offers objects called dataframes to manage and interact with tabular data. These have some functional similarities to objects called dataframes in the R language, which comes out of statistical computing. \n",
    "\n",
    "It's conventional to assign the Pandas library the alias `pd` when importing it, which saves a little typing over time."
   ]
  },
  {
   "cell_type": "code",
   "execution_count": 50,
   "metadata": {
    "colab": {},
    "colab_type": "code",
    "id": "v1C49BatVCu9"
   },
   "outputs": [],
   "source": [
    "import pandas as pd"
   ]
  },
  {
   "cell_type": "markdown",
   "metadata": {
    "colab_type": "text",
    "id": "ZvhVs8LJVCvN"
   },
   "source": [
    "# Reading directly from a database into Pandas"
   ]
  },
  {
   "cell_type": "code",
   "execution_count": 51,
   "metadata": {
    "colab": {},
    "colab_type": "code",
    "id": "PaYrWO1uVCvO"
   },
   "outputs": [],
   "source": [
    "#conn = sqlite3.connect(\"/content/drive/My Drive/iph430/bookcrossing.sqlite3\")\n",
    "conn = sqlite3.connect(\"bookcrossing.sqlite3\")"
   ]
  },
  {
   "cell_type": "markdown",
   "metadata": {},
   "source": [
    "Pandas' `read_sql_query` method takes SQL query and a database connection and parses values into a DataFrame, which is like a programmable spreadsheet."
   ]
  },
  {
   "cell_type": "code",
   "execution_count": 52,
   "metadata": {
    "colab": {},
    "colab_type": "code",
    "id": "HTHUqFoXVCvP"
   },
   "outputs": [],
   "source": [
    "books = pd.read_sql_query(\"SELECT * FROM books;\", conn)"
   ]
  },
  {
   "cell_type": "code",
   "execution_count": 53,
   "metadata": {
    "colab": {
     "base_uri": "https://localhost:8080/",
     "height": 35
    },
    "colab_type": "code",
    "id": "qi6hvK9h6ePV",
    "outputId": "b2883af5-f99b-45a6-b636-634c854b4289"
   },
   "outputs": [
    {
     "data": {
      "text/plain": [
       "pandas.core.frame.DataFrame"
      ]
     },
     "execution_count": 53,
     "metadata": {},
     "output_type": "execute_result"
    }
   ],
   "source": [
    "type(books)"
   ]
  },
  {
   "cell_type": "markdown",
   "metadata": {},
   "source": [
    "The DataFrame's `head` method lets us look at the first several rows of data. Similarly `tail` will look at the last several rows."
   ]
  },
  {
   "cell_type": "code",
   "execution_count": 54,
   "metadata": {},
   "outputs": [
    {
     "data": {
      "text/html": [
       "<div>\n",
       "<style scoped>\n",
       "    .dataframe tbody tr th:only-of-type {\n",
       "        vertical-align: middle;\n",
       "    }\n",
       "\n",
       "    .dataframe tbody tr th {\n",
       "        vertical-align: top;\n",
       "    }\n",
       "\n",
       "    .dataframe thead th {\n",
       "        text-align: right;\n",
       "    }\n",
       "</style>\n",
       "<table border=\"1\" class=\"dataframe\">\n",
       "  <thead>\n",
       "    <tr style=\"text-align: right;\">\n",
       "      <th></th>\n",
       "      <th>ISBN</th>\n",
       "      <th>title</th>\n",
       "      <th>author</th>\n",
       "      <th>year</th>\n",
       "      <th>publisher</th>\n",
       "    </tr>\n",
       "  </thead>\n",
       "  <tbody>\n",
       "    <tr>\n",
       "      <th>0</th>\n",
       "      <td>0195153448</td>\n",
       "      <td>Classical Mythology</td>\n",
       "      <td>Mark P. O. Morford</td>\n",
       "      <td>2002</td>\n",
       "      <td>Oxford University Press</td>\n",
       "    </tr>\n",
       "    <tr>\n",
       "      <th>1</th>\n",
       "      <td>0002005018</td>\n",
       "      <td>Clara Callan</td>\n",
       "      <td>Richard Bruce Wright</td>\n",
       "      <td>2001</td>\n",
       "      <td>HarperFlamingo Canada</td>\n",
       "    </tr>\n",
       "    <tr>\n",
       "      <th>2</th>\n",
       "      <td>0060973129</td>\n",
       "      <td>Decision in Normandy</td>\n",
       "      <td>Carlo D'Este</td>\n",
       "      <td>1991</td>\n",
       "      <td>HarperPerennial</td>\n",
       "    </tr>\n",
       "    <tr>\n",
       "      <th>3</th>\n",
       "      <td>0374157065</td>\n",
       "      <td>Flu: The Story of the Great Influenza Pandemic...</td>\n",
       "      <td>Gina Bari Kolata</td>\n",
       "      <td>1999</td>\n",
       "      <td>Farrar Straus Giroux</td>\n",
       "    </tr>\n",
       "    <tr>\n",
       "      <th>4</th>\n",
       "      <td>0393045218</td>\n",
       "      <td>The Mummies of Urumchi</td>\n",
       "      <td>E. J. W. Barber</td>\n",
       "      <td>1999</td>\n",
       "      <td>W. W. Norton &amp; Company</td>\n",
       "    </tr>\n",
       "  </tbody>\n",
       "</table>\n",
       "</div>"
      ],
      "text/plain": [
       "         ISBN                                              title  \\\n",
       "0  0195153448                                Classical Mythology   \n",
       "1  0002005018                                       Clara Callan   \n",
       "2  0060973129                               Decision in Normandy   \n",
       "3  0374157065  Flu: The Story of the Great Influenza Pandemic...   \n",
       "4  0393045218                             The Mummies of Urumchi   \n",
       "\n",
       "                 author  year                publisher  \n",
       "0    Mark P. O. Morford  2002  Oxford University Press  \n",
       "1  Richard Bruce Wright  2001    HarperFlamingo Canada  \n",
       "2          Carlo D'Este  1991          HarperPerennial  \n",
       "3      Gina Bari Kolata  1999     Farrar Straus Giroux  \n",
       "4       E. J. W. Barber  1999   W. W. Norton & Company  "
      ]
     },
     "execution_count": 54,
     "metadata": {},
     "output_type": "execute_result"
    }
   ],
   "source": [
    "# compare LIMIT 5 (as a default) in SQL\n",
    "books.head()"
   ]
  },
  {
   "cell_type": "code",
   "execution_count": 55,
   "metadata": {},
   "outputs": [
    {
     "data": {
      "text/html": [
       "<div>\n",
       "<style scoped>\n",
       "    .dataframe tbody tr th:only-of-type {\n",
       "        vertical-align: middle;\n",
       "    }\n",
       "\n",
       "    .dataframe tbody tr th {\n",
       "        vertical-align: top;\n",
       "    }\n",
       "\n",
       "    .dataframe thead th {\n",
       "        text-align: right;\n",
       "    }\n",
       "</style>\n",
       "<table border=\"1\" class=\"dataframe\">\n",
       "  <thead>\n",
       "    <tr style=\"text-align: right;\">\n",
       "      <th></th>\n",
       "      <th>ISBN</th>\n",
       "      <th>title</th>\n",
       "      <th>author</th>\n",
       "      <th>year</th>\n",
       "      <th>publisher</th>\n",
       "    </tr>\n",
       "  </thead>\n",
       "  <tbody>\n",
       "    <tr>\n",
       "      <th>0</th>\n",
       "      <td>0195153448</td>\n",
       "      <td>Classical Mythology</td>\n",
       "      <td>Mark P. O. Morford</td>\n",
       "      <td>2002</td>\n",
       "      <td>Oxford University Press</td>\n",
       "    </tr>\n",
       "    <tr>\n",
       "      <th>1</th>\n",
       "      <td>0002005018</td>\n",
       "      <td>Clara Callan</td>\n",
       "      <td>Richard Bruce Wright</td>\n",
       "      <td>2001</td>\n",
       "      <td>HarperFlamingo Canada</td>\n",
       "    </tr>\n",
       "    <tr>\n",
       "      <th>2</th>\n",
       "      <td>0060973129</td>\n",
       "      <td>Decision in Normandy</td>\n",
       "      <td>Carlo D'Este</td>\n",
       "      <td>1991</td>\n",
       "      <td>HarperPerennial</td>\n",
       "    </tr>\n",
       "    <tr>\n",
       "      <th>3</th>\n",
       "      <td>0374157065</td>\n",
       "      <td>Flu: The Story of the Great Influenza Pandemic...</td>\n",
       "      <td>Gina Bari Kolata</td>\n",
       "      <td>1999</td>\n",
       "      <td>Farrar Straus Giroux</td>\n",
       "    </tr>\n",
       "    <tr>\n",
       "      <th>4</th>\n",
       "      <td>0393045218</td>\n",
       "      <td>The Mummies of Urumchi</td>\n",
       "      <td>E. J. W. Barber</td>\n",
       "      <td>1999</td>\n",
       "      <td>W. W. Norton &amp; Company</td>\n",
       "    </tr>\n",
       "    <tr>\n",
       "      <th>5</th>\n",
       "      <td>0399135782</td>\n",
       "      <td>The Kitchen God's Wife</td>\n",
       "      <td>Amy Tan</td>\n",
       "      <td>1991</td>\n",
       "      <td>Putnam Pub Group</td>\n",
       "    </tr>\n",
       "    <tr>\n",
       "      <th>6</th>\n",
       "      <td>0425176428</td>\n",
       "      <td>What If?: The World's Foremost Military Histor...</td>\n",
       "      <td>Robert Cowley</td>\n",
       "      <td>2000</td>\n",
       "      <td>Berkley Publishing Group</td>\n",
       "    </tr>\n",
       "    <tr>\n",
       "      <th>7</th>\n",
       "      <td>0671870432</td>\n",
       "      <td>PLEADING GUILTY</td>\n",
       "      <td>Scott Turow</td>\n",
       "      <td>1993</td>\n",
       "      <td>Audioworks</td>\n",
       "    </tr>\n",
       "    <tr>\n",
       "      <th>8</th>\n",
       "      <td>0679425608</td>\n",
       "      <td>Under the Black Flag: The Romance and the Real...</td>\n",
       "      <td>David Cordingly</td>\n",
       "      <td>1996</td>\n",
       "      <td>Random House</td>\n",
       "    </tr>\n",
       "    <tr>\n",
       "      <th>9</th>\n",
       "      <td>074322678X</td>\n",
       "      <td>Where You'll Find Me: And Other Stories</td>\n",
       "      <td>Ann Beattie</td>\n",
       "      <td>2002</td>\n",
       "      <td>Scribner</td>\n",
       "    </tr>\n",
       "  </tbody>\n",
       "</table>\n",
       "</div>"
      ],
      "text/plain": [
       "         ISBN                                              title  \\\n",
       "0  0195153448                                Classical Mythology   \n",
       "1  0002005018                                       Clara Callan   \n",
       "2  0060973129                               Decision in Normandy   \n",
       "3  0374157065  Flu: The Story of the Great Influenza Pandemic...   \n",
       "4  0393045218                             The Mummies of Urumchi   \n",
       "5  0399135782                             The Kitchen God's Wife   \n",
       "6  0425176428  What If?: The World's Foremost Military Histor...   \n",
       "7  0671870432                                    PLEADING GUILTY   \n",
       "8  0679425608  Under the Black Flag: The Romance and the Real...   \n",
       "9  074322678X            Where You'll Find Me: And Other Stories   \n",
       "\n",
       "                 author  year                 publisher  \n",
       "0    Mark P. O. Morford  2002   Oxford University Press  \n",
       "1  Richard Bruce Wright  2001     HarperFlamingo Canada  \n",
       "2          Carlo D'Este  1991           HarperPerennial  \n",
       "3      Gina Bari Kolata  1999      Farrar Straus Giroux  \n",
       "4       E. J. W. Barber  1999    W. W. Norton & Company  \n",
       "5               Amy Tan  1991          Putnam Pub Group  \n",
       "6         Robert Cowley  2000  Berkley Publishing Group  \n",
       "7           Scott Turow  1993                Audioworks  \n",
       "8       David Cordingly  1996              Random House  \n",
       "9           Ann Beattie  2002                  Scribner  "
      ]
     },
     "execution_count": 55,
     "metadata": {},
     "output_type": "execute_result"
    }
   ],
   "source": [
    "# compare LIMIT 10 in SQL:\n",
    "books.head(10)"
   ]
  },
  {
   "cell_type": "code",
   "execution_count": 56,
   "metadata": {
    "colab": {
     "base_uri": "https://localhost:8080/",
     "height": 35
    },
    "colab_type": "code",
    "id": "hdo2fJf76fgk",
    "outputId": "20829a4e-466d-4ac5-c84e-7d1e74dc346e"
   },
   "outputs": [
    {
     "data": {
      "text/plain": [
       "271379"
      ]
     },
     "execution_count": 56,
     "metadata": {},
     "output_type": "execute_result"
    }
   ],
   "source": [
    "# the number of rows\n",
    "len(books)"
   ]
  },
  {
   "cell_type": "code",
   "execution_count": 57,
   "metadata": {
    "colab": {
     "base_uri": "https://localhost:8080/",
     "height": 35
    },
    "colab_type": "code",
    "id": "gd971kcY6hms",
    "outputId": "5676042a-1b33-4007-8ea2-ef8fed826b55"
   },
   "outputs": [
    {
     "data": {
      "text/plain": [
       "(271379, 5)"
      ]
     },
     "execution_count": 57,
     "metadata": {},
     "output_type": "execute_result"
    }
   ],
   "source": [
    "# a tuple of the number of rows and the number of columns\n",
    "books.shape"
   ]
  },
  {
   "cell_type": "code",
   "execution_count": 58,
   "metadata": {
    "colab": {
     "base_uri": "https://localhost:8080/",
     "height": 419
    },
    "colab_type": "code",
    "id": "az6EBM0Zs42N",
    "outputId": "2d24223b-b4fa-4eba-c69f-ebc07bd93c14"
   },
   "outputs": [
    {
     "data": {
      "text/html": [
       "<div>\n",
       "<style scoped>\n",
       "    .dataframe tbody tr th:only-of-type {\n",
       "        vertical-align: middle;\n",
       "    }\n",
       "\n",
       "    .dataframe tbody tr th {\n",
       "        vertical-align: top;\n",
       "    }\n",
       "\n",
       "    .dataframe thead th {\n",
       "        text-align: right;\n",
       "    }\n",
       "</style>\n",
       "<table border=\"1\" class=\"dataframe\">\n",
       "  <thead>\n",
       "    <tr style=\"text-align: right;\">\n",
       "      <th></th>\n",
       "      <th>title</th>\n",
       "      <th>author</th>\n",
       "    </tr>\n",
       "  </thead>\n",
       "  <tbody>\n",
       "    <tr>\n",
       "      <th>0</th>\n",
       "      <td>Classical Mythology</td>\n",
       "      <td>Mark P. O. Morford</td>\n",
       "    </tr>\n",
       "    <tr>\n",
       "      <th>1</th>\n",
       "      <td>Clara Callan</td>\n",
       "      <td>Richard Bruce Wright</td>\n",
       "    </tr>\n",
       "    <tr>\n",
       "      <th>2</th>\n",
       "      <td>Decision in Normandy</td>\n",
       "      <td>Carlo D'Este</td>\n",
       "    </tr>\n",
       "    <tr>\n",
       "      <th>3</th>\n",
       "      <td>Flu: The Story of the Great Influenza Pandemic...</td>\n",
       "      <td>Gina Bari Kolata</td>\n",
       "    </tr>\n",
       "    <tr>\n",
       "      <th>4</th>\n",
       "      <td>The Mummies of Urumchi</td>\n",
       "      <td>E. J. W. Barber</td>\n",
       "    </tr>\n",
       "  </tbody>\n",
       "</table>\n",
       "</div>"
      ],
      "text/plain": [
       "                                               title                author\n",
       "0                                Classical Mythology    Mark P. O. Morford\n",
       "1                                       Clara Callan  Richard Bruce Wright\n",
       "2                               Decision in Normandy          Carlo D'Este\n",
       "3  Flu: The Story of the Great Influenza Pandemic...      Gina Bari Kolata\n",
       "4                             The Mummies of Urumchi       E. J. W. Barber"
      ]
     },
     "execution_count": 58,
     "metadata": {},
     "output_type": "execute_result"
    }
   ],
   "source": [
    "# Compare selecting only certain columns in SQL:\n",
    "books[['title','author']].head()"
   ]
  },
  {
   "cell_type": "markdown",
   "metadata": {},
   "source": [
    "We can also aggregate over values and calculate counts or averages."
   ]
  },
  {
   "cell_type": "code",
   "execution_count": 59,
   "metadata": {
    "colab": {
     "base_uri": "https://localhost:8080/",
     "height": 450
    },
    "colab_type": "code",
    "id": "FVK44Qnos4pb",
    "outputId": "958ebb8d-b5e3-4068-af14-d8cb466a0954"
   },
   "outputs": [
    {
     "data": {
      "text/html": [
       "<div>\n",
       "<style scoped>\n",
       "    .dataframe tbody tr th:only-of-type {\n",
       "        vertical-align: middle;\n",
       "    }\n",
       "\n",
       "    .dataframe tbody tr th {\n",
       "        vertical-align: top;\n",
       "    }\n",
       "\n",
       "    .dataframe thead th {\n",
       "        text-align: right;\n",
       "    }\n",
       "</style>\n",
       "<table border=\"1\" class=\"dataframe\">\n",
       "  <thead>\n",
       "    <tr style=\"text-align: right;\">\n",
       "      <th></th>\n",
       "      <th>count</th>\n",
       "    </tr>\n",
       "    <tr>\n",
       "      <th>year</th>\n",
       "      <th></th>\n",
       "    </tr>\n",
       "  </thead>\n",
       "  <tbody>\n",
       "    <tr>\n",
       "      <th>0</th>\n",
       "      <td>4619</td>\n",
       "    </tr>\n",
       "    <tr>\n",
       "      <th>1376</th>\n",
       "      <td>1</td>\n",
       "    </tr>\n",
       "    <tr>\n",
       "      <th>1378</th>\n",
       "      <td>1</td>\n",
       "    </tr>\n",
       "    <tr>\n",
       "      <th>1806</th>\n",
       "      <td>1</td>\n",
       "    </tr>\n",
       "    <tr>\n",
       "      <th>1897</th>\n",
       "      <td>1</td>\n",
       "    </tr>\n",
       "    <tr>\n",
       "      <th>...</th>\n",
       "      <td>...</td>\n",
       "    </tr>\n",
       "    <tr>\n",
       "      <th>2026</th>\n",
       "      <td>1</td>\n",
       "    </tr>\n",
       "    <tr>\n",
       "      <th>2030</th>\n",
       "      <td>7</td>\n",
       "    </tr>\n",
       "    <tr>\n",
       "      <th>2037</th>\n",
       "      <td>1</td>\n",
       "    </tr>\n",
       "    <tr>\n",
       "      <th>2038</th>\n",
       "      <td>1</td>\n",
       "    </tr>\n",
       "    <tr>\n",
       "      <th>2050</th>\n",
       "      <td>2</td>\n",
       "    </tr>\n",
       "  </tbody>\n",
       "</table>\n",
       "<p>116 rows × 1 columns</p>\n",
       "</div>"
      ],
      "text/plain": [
       "      count\n",
       "year       \n",
       "0      4619\n",
       "1376      1\n",
       "1378      1\n",
       "1806      1\n",
       "1897      1\n",
       "...     ...\n",
       "2026      1\n",
       "2030      7\n",
       "2037      1\n",
       "2038      1\n",
       "2050      2\n",
       "\n",
       "[116 rows x 1 columns]"
      ]
     },
     "execution_count": 59,
     "metadata": {},
     "output_type": "execute_result"
    }
   ],
   "source": [
    "# Compare GROUP BY in SQL:\n",
    "# The renaming always strikes me as a little clunky, because without it the count column \n",
    "# is confusingly labeled \"ISBN\"\n",
    "books[['ISBN','year']].groupby(\"year\").count().rename(columns={\"ISBN\":\"count\"})"
   ]
  },
  {
   "cell_type": "code",
   "execution_count": 60,
   "metadata": {
    "colab": {
     "base_uri": "https://localhost:8080/",
     "height": 450
    },
    "colab_type": "code",
    "id": "RPfM4jQys4da",
    "outputId": "995ff0bb-a596-45d4-b069-5e2356cb851b"
   },
   "outputs": [
    {
     "data": {
      "text/html": [
       "<div>\n",
       "<style scoped>\n",
       "    .dataframe tbody tr th:only-of-type {\n",
       "        vertical-align: middle;\n",
       "    }\n",
       "\n",
       "    .dataframe tbody tr th {\n",
       "        vertical-align: top;\n",
       "    }\n",
       "\n",
       "    .dataframe thead th {\n",
       "        text-align: right;\n",
       "    }\n",
       "</style>\n",
       "<table border=\"1\" class=\"dataframe\">\n",
       "  <thead>\n",
       "    <tr style=\"text-align: right;\">\n",
       "      <th></th>\n",
       "      <th>count</th>\n",
       "    </tr>\n",
       "    <tr>\n",
       "      <th>year</th>\n",
       "      <th></th>\n",
       "    </tr>\n",
       "  </thead>\n",
       "  <tbody>\n",
       "    <tr>\n",
       "      <th>2002</th>\n",
       "      <td>17628</td>\n",
       "    </tr>\n",
       "    <tr>\n",
       "      <th>1999</th>\n",
       "      <td>17432</td>\n",
       "    </tr>\n",
       "    <tr>\n",
       "      <th>2001</th>\n",
       "      <td>17360</td>\n",
       "    </tr>\n",
       "    <tr>\n",
       "      <th>2000</th>\n",
       "      <td>17235</td>\n",
       "    </tr>\n",
       "    <tr>\n",
       "      <th>1998</th>\n",
       "      <td>15767</td>\n",
       "    </tr>\n",
       "    <tr>\n",
       "      <th>...</th>\n",
       "      <td>...</td>\n",
       "    </tr>\n",
       "    <tr>\n",
       "      <th>1906</th>\n",
       "      <td>1</td>\n",
       "    </tr>\n",
       "    <tr>\n",
       "      <th>1378</th>\n",
       "      <td>1</td>\n",
       "    </tr>\n",
       "    <tr>\n",
       "      <th>1806</th>\n",
       "      <td>1</td>\n",
       "    </tr>\n",
       "    <tr>\n",
       "      <th>1897</th>\n",
       "      <td>1</td>\n",
       "    </tr>\n",
       "    <tr>\n",
       "      <th>1914</th>\n",
       "      <td>1</td>\n",
       "    </tr>\n",
       "  </tbody>\n",
       "</table>\n",
       "<p>116 rows × 1 columns</p>\n",
       "</div>"
      ],
      "text/plain": [
       "      count\n",
       "year       \n",
       "2002  17628\n",
       "1999  17432\n",
       "2001  17360\n",
       "2000  17235\n",
       "1998  15767\n",
       "...     ...\n",
       "1906      1\n",
       "1378      1\n",
       "1806      1\n",
       "1897      1\n",
       "1914      1\n",
       "\n",
       "[116 rows x 1 columns]"
      ]
     },
     "execution_count": 60,
     "metadata": {},
     "output_type": "execute_result"
    }
   ],
   "source": [
    "# Compare ORDER BY in SQL:\n",
    "books[['ISBN','year']].groupby(\"year\").count().rename(columns={\"ISBN\":\"count\"}).sort_values(by=\"count\", ascending=False)"
   ]
  },
  {
   "cell_type": "code",
   "execution_count": 61,
   "metadata": {
    "colab": {},
    "colab_type": "code",
    "id": "8oMHA3mWt_Wu"
   },
   "outputs": [
    {
     "data": {
      "text/plain": [
       "pandas.core.frame.DataFrame"
      ]
     },
     "execution_count": 61,
     "metadata": {},
     "output_type": "execute_result"
    }
   ],
   "source": [
    "type(books[['year']])"
   ]
  },
  {
   "cell_type": "code",
   "execution_count": 62,
   "metadata": {
    "colab": {
     "base_uri": "https://localhost:8080/",
     "height": 233
    },
    "colab_type": "code",
    "id": "R-VmF-pYt3op",
    "outputId": "db6e4343-3a38-4a0b-d1f5-aeabeb996b1a"
   },
   "outputs": [
    {
     "data": {
      "text/plain": [
       "0         2002\n",
       "1         2001\n",
       "2         1991\n",
       "3         1999\n",
       "4         1999\n",
       "          ... \n",
       "271374    1988\n",
       "271375    1991\n",
       "271376    2004\n",
       "271377    1996\n",
       "271378    2000\n",
       "Name: year, Length: 271379, dtype: int64"
      ]
     },
     "execution_count": 62,
     "metadata": {},
     "output_type": "execute_result"
    }
   ],
   "source": [
    "# Selecting one column returns a Pandas Series, which is a kind of labeled ordered list of values; \n",
    "# it's like a one-column DataFrame, but it's not a DataFrame, because it can only be one column.\n",
    "\n",
    "books['year']"
   ]
  },
  {
   "cell_type": "code",
   "execution_count": 63,
   "metadata": {
    "colab": {
     "base_uri": "https://localhost:8080/",
     "height": 419
    },
    "colab_type": "code",
    "id": "mFewT5-NuWpm",
    "outputId": "19f201f7-19dc-4694-8711-c82454a25754"
   },
   "outputs": [
    {
     "data": {
      "text/html": [
       "<div>\n",
       "<style scoped>\n",
       "    .dataframe tbody tr th:only-of-type {\n",
       "        vertical-align: middle;\n",
       "    }\n",
       "\n",
       "    .dataframe tbody tr th {\n",
       "        vertical-align: top;\n",
       "    }\n",
       "\n",
       "    .dataframe thead th {\n",
       "        text-align: right;\n",
       "    }\n",
       "</style>\n",
       "<table border=\"1\" class=\"dataframe\">\n",
       "  <thead>\n",
       "    <tr style=\"text-align: right;\">\n",
       "      <th></th>\n",
       "      <th>year</th>\n",
       "    </tr>\n",
       "  </thead>\n",
       "  <tbody>\n",
       "    <tr>\n",
       "      <th>0</th>\n",
       "      <td>2002</td>\n",
       "    </tr>\n",
       "    <tr>\n",
       "      <th>1</th>\n",
       "      <td>2001</td>\n",
       "    </tr>\n",
       "    <tr>\n",
       "      <th>2</th>\n",
       "      <td>1991</td>\n",
       "    </tr>\n",
       "    <tr>\n",
       "      <th>3</th>\n",
       "      <td>1999</td>\n",
       "    </tr>\n",
       "    <tr>\n",
       "      <th>4</th>\n",
       "      <td>1999</td>\n",
       "    </tr>\n",
       "    <tr>\n",
       "      <th>...</th>\n",
       "      <td>...</td>\n",
       "    </tr>\n",
       "    <tr>\n",
       "      <th>271374</th>\n",
       "      <td>1988</td>\n",
       "    </tr>\n",
       "    <tr>\n",
       "      <th>271375</th>\n",
       "      <td>1991</td>\n",
       "    </tr>\n",
       "    <tr>\n",
       "      <th>271376</th>\n",
       "      <td>2004</td>\n",
       "    </tr>\n",
       "    <tr>\n",
       "      <th>271377</th>\n",
       "      <td>1996</td>\n",
       "    </tr>\n",
       "    <tr>\n",
       "      <th>271378</th>\n",
       "      <td>2000</td>\n",
       "    </tr>\n",
       "  </tbody>\n",
       "</table>\n",
       "<p>271379 rows × 1 columns</p>\n",
       "</div>"
      ],
      "text/plain": [
       "        year\n",
       "0       2002\n",
       "1       2001\n",
       "2       1991\n",
       "3       1999\n",
       "4       1999\n",
       "...      ...\n",
       "271374  1988\n",
       "271375  1991\n",
       "271376  2004\n",
       "271377  1996\n",
       "271378  2000\n",
       "\n",
       "[271379 rows x 1 columns]"
      ]
     },
     "execution_count": 63,
     "metadata": {},
     "output_type": "execute_result"
    }
   ],
   "source": [
    "# We could get an equivalent one-column DataFrame by doubling the brackets:\n",
    "\n",
    "books[['year']]"
   ]
  },
  {
   "cell_type": "code",
   "execution_count": 64,
   "metadata": {},
   "outputs": [
    {
     "data": {
      "text/plain": [
       "0         False\n",
       "1         False\n",
       "2         False\n",
       "3         False\n",
       "4         False\n",
       "          ...  \n",
       "271374    False\n",
       "271375    False\n",
       "271376    False\n",
       "271377    False\n",
       "271378    False\n",
       "Name: year, Length: 271379, dtype: bool"
      ]
     },
     "execution_count": 64,
     "metadata": {},
     "output_type": "execute_result"
    }
   ],
   "source": [
    "books['year'] == 1994"
   ]
  },
  {
   "cell_type": "code",
   "execution_count": 65,
   "metadata": {
    "colab": {
     "base_uri": "https://localhost:8080/",
     "height": 233
    },
    "colab_type": "code",
    "id": "rQwyrnzjuWfX",
    "outputId": "23fea620-558a-4407-f66c-ae6b8c3b6a7a"
   },
   "outputs": [
    {
     "data": {
      "text/plain": [
       "0         False\n",
       "1         False\n",
       "2         False\n",
       "3         False\n",
       "4         False\n",
       "          ...  \n",
       "271374    False\n",
       "271375    False\n",
       "271376    False\n",
       "271377    False\n",
       "271378    False\n",
       "Name: year, Length: 271379, dtype: bool"
      ]
     },
     "execution_count": 65,
     "metadata": {},
     "output_type": "execute_result"
    }
   ],
   "source": [
    "# A series compared with a value effectively compares each value in the series with that value, and returns a series of booleans.\n",
    "\n",
    "books['year'] == 1994"
   ]
  },
  {
   "cell_type": "code",
   "execution_count": 66,
   "metadata": {
    "colab": {
     "base_uri": "https://localhost:8080/",
     "height": 419
    },
    "colab_type": "code",
    "id": "1i-rrX9kxPgV",
    "outputId": "2ba8a04a-c6b3-4fed-aa9b-7828e671bf86"
   },
   "outputs": [],
   "source": [
    "# A series of booleans as long as the number of rows in a dataframe can be used as a filtering index for that\n",
    "# dataframe; rows indexed with a False value are dropped.\n",
    "# Compare this to a WHERE clause in SQL\n",
    "\n",
    "books1999 = books[books['year'] == 1999]"
   ]
  },
  {
   "cell_type": "code",
   "execution_count": 67,
   "metadata": {},
   "outputs": [
    {
     "data": {
      "text/html": [
       "<div>\n",
       "<style scoped>\n",
       "    .dataframe tbody tr th:only-of-type {\n",
       "        vertical-align: middle;\n",
       "    }\n",
       "\n",
       "    .dataframe tbody tr th {\n",
       "        vertical-align: top;\n",
       "    }\n",
       "\n",
       "    .dataframe thead th {\n",
       "        text-align: right;\n",
       "    }\n",
       "</style>\n",
       "<table border=\"1\" class=\"dataframe\">\n",
       "  <thead>\n",
       "    <tr style=\"text-align: right;\">\n",
       "      <th></th>\n",
       "      <th>ISBN</th>\n",
       "      <th>title</th>\n",
       "      <th>author</th>\n",
       "      <th>year</th>\n",
       "      <th>publisher</th>\n",
       "    </tr>\n",
       "  </thead>\n",
       "  <tbody>\n",
       "    <tr>\n",
       "      <th>3</th>\n",
       "      <td>0374157065</td>\n",
       "      <td>Flu: The Story of the Great Influenza Pandemic...</td>\n",
       "      <td>Gina Bari Kolata</td>\n",
       "      <td>1999</td>\n",
       "      <td>Farrar Straus Giroux</td>\n",
       "    </tr>\n",
       "    <tr>\n",
       "      <th>4</th>\n",
       "      <td>0393045218</td>\n",
       "      <td>The Mummies of Urumchi</td>\n",
       "      <td>E. J. W. Barber</td>\n",
       "      <td>1999</td>\n",
       "      <td>W. W. Norton &amp; Company</td>\n",
       "    </tr>\n",
       "    <tr>\n",
       "      <th>13</th>\n",
       "      <td>1552041778</td>\n",
       "      <td>Jane Doe</td>\n",
       "      <td>R. J. Kaiser</td>\n",
       "      <td>1999</td>\n",
       "      <td>Mira Books</td>\n",
       "    </tr>\n",
       "    <tr>\n",
       "      <th>16</th>\n",
       "      <td>1575663937</td>\n",
       "      <td>More Cunning Than Man: A Social History of Rat...</td>\n",
       "      <td>Robert Hendrickson</td>\n",
       "      <td>1999</td>\n",
       "      <td>Kensington Publishing Corp.</td>\n",
       "    </tr>\n",
       "    <tr>\n",
       "      <th>18</th>\n",
       "      <td>0440234743</td>\n",
       "      <td>The Testament</td>\n",
       "      <td>John Grisham</td>\n",
       "      <td>1999</td>\n",
       "      <td>Dell</td>\n",
       "    </tr>\n",
       "  </tbody>\n",
       "</table>\n",
       "</div>"
      ],
      "text/plain": [
       "          ISBN                                              title  \\\n",
       "3   0374157065  Flu: The Story of the Great Influenza Pandemic...   \n",
       "4   0393045218                             The Mummies of Urumchi   \n",
       "13  1552041778                                           Jane Doe   \n",
       "16  1575663937  More Cunning Than Man: A Social History of Rat...   \n",
       "18  0440234743                                      The Testament   \n",
       "\n",
       "                author  year                    publisher  \n",
       "3     Gina Bari Kolata  1999         Farrar Straus Giroux  \n",
       "4      E. J. W. Barber  1999       W. W. Norton & Company  \n",
       "13        R. J. Kaiser  1999                   Mira Books  \n",
       "16  Robert Hendrickson  1999  Kensington Publishing Corp.  \n",
       "18        John Grisham  1999                         Dell  "
      ]
     },
     "execution_count": 67,
     "metadata": {},
     "output_type": "execute_result"
    }
   ],
   "source": [
    "books1999.head()"
   ]
  },
  {
   "cell_type": "code",
   "execution_count": 68,
   "metadata": {
    "colab": {
     "base_uri": "https://localhost:8080/",
     "height": 419
    },
    "colab_type": "code",
    "id": "KcHzjPrbxPot",
    "outputId": "7340cae4-a3c8-477c-e5a4-725292d7bfe1"
   },
   "outputs": [
    {
     "data": {
      "text/html": [
       "<div>\n",
       "<style scoped>\n",
       "    .dataframe tbody tr th:only-of-type {\n",
       "        vertical-align: middle;\n",
       "    }\n",
       "\n",
       "    .dataframe tbody tr th {\n",
       "        vertical-align: top;\n",
       "    }\n",
       "\n",
       "    .dataframe thead th {\n",
       "        text-align: right;\n",
       "    }\n",
       "</style>\n",
       "<table border=\"1\" class=\"dataframe\">\n",
       "  <thead>\n",
       "    <tr style=\"text-align: right;\">\n",
       "      <th></th>\n",
       "      <th>ISBN</th>\n",
       "      <th>title</th>\n",
       "      <th>author</th>\n",
       "      <th>year</th>\n",
       "      <th>publisher</th>\n",
       "    </tr>\n",
       "  </thead>\n",
       "  <tbody>\n",
       "    <tr>\n",
       "      <th>2</th>\n",
       "      <td>0060973129</td>\n",
       "      <td>Decision in Normandy</td>\n",
       "      <td>Carlo D'Este</td>\n",
       "      <td>1991</td>\n",
       "      <td>HarperPerennial</td>\n",
       "    </tr>\n",
       "    <tr>\n",
       "      <th>5</th>\n",
       "      <td>0399135782</td>\n",
       "      <td>The Kitchen God's Wife</td>\n",
       "      <td>Amy Tan</td>\n",
       "      <td>1991</td>\n",
       "      <td>Putnam Pub Group</td>\n",
       "    </tr>\n",
       "    <tr>\n",
       "      <th>34</th>\n",
       "      <td>3442410665</td>\n",
       "      <td>Sturmzeit. Roman.</td>\n",
       "      <td>Charlotte Link</td>\n",
       "      <td>1991</td>\n",
       "      <td>Goldmann</td>\n",
       "    </tr>\n",
       "    <tr>\n",
       "      <th>61</th>\n",
       "      <td>0679810307</td>\n",
       "      <td>Shabanu: Daughter of the Wind (Border Trilogy)</td>\n",
       "      <td>SUZANNE FISHER STAPLES</td>\n",
       "      <td>1991</td>\n",
       "      <td>Laurel Leaf</td>\n",
       "    </tr>\n",
       "    <tr>\n",
       "      <th>76</th>\n",
       "      <td>1558531025</td>\n",
       "      <td>Life's Little Instruction Book (Life's Little ...</td>\n",
       "      <td>H. Jackson Brown</td>\n",
       "      <td>1991</td>\n",
       "      <td>Thomas Nelson</td>\n",
       "    </tr>\n",
       "    <tr>\n",
       "      <th>...</th>\n",
       "      <td>...</td>\n",
       "      <td>...</td>\n",
       "      <td>...</td>\n",
       "      <td>...</td>\n",
       "      <td>...</td>\n",
       "    </tr>\n",
       "    <tr>\n",
       "      <th>271142</th>\n",
       "      <td>0312926715</td>\n",
       "      <td>Ava's Men</td>\n",
       "      <td>Jane Ellen Wayne</td>\n",
       "      <td>1991</td>\n",
       "      <td>St. Martin's Press</td>\n",
       "    </tr>\n",
       "    <tr>\n",
       "      <th>271165</th>\n",
       "      <td>0806512156</td>\n",
       "      <td>New York Sports Quiz</td>\n",
       "      <td>Brenda Alesii</td>\n",
       "      <td>1991</td>\n",
       "      <td>Carol Publishing Corporation</td>\n",
       "    </tr>\n",
       "    <tr>\n",
       "      <th>271336</th>\n",
       "      <td>359610601X</td>\n",
       "      <td>Der gelbe Stern: Die Judenvernichtung in Europ...</td>\n",
       "      <td>Gerhard Schoenberner</td>\n",
       "      <td>1991</td>\n",
       "      <td>Fischer</td>\n",
       "    </tr>\n",
       "    <tr>\n",
       "      <th>271344</th>\n",
       "      <td>0747204020</td>\n",
       "      <td>Illustrated Encyclopedia of Cacti</td>\n",
       "      <td>Glass Charles</td>\n",
       "      <td>1991</td>\n",
       "      <td>Headline</td>\n",
       "    </tr>\n",
       "    <tr>\n",
       "      <th>271375</th>\n",
       "      <td>0525447644</td>\n",
       "      <td>From One to One Hundred</td>\n",
       "      <td>Teri Sloat</td>\n",
       "      <td>1991</td>\n",
       "      <td>Dutton Books</td>\n",
       "    </tr>\n",
       "  </tbody>\n",
       "</table>\n",
       "<p>9389 rows × 5 columns</p>\n",
       "</div>"
      ],
      "text/plain": [
       "              ISBN                                              title  \\\n",
       "2       0060973129                               Decision in Normandy   \n",
       "5       0399135782                             The Kitchen God's Wife   \n",
       "34      3442410665                                  Sturmzeit. Roman.   \n",
       "61      0679810307     Shabanu: Daughter of the Wind (Border Trilogy)   \n",
       "76      1558531025  Life's Little Instruction Book (Life's Little ...   \n",
       "...            ...                                                ...   \n",
       "271142  0312926715                                          Ava's Men   \n",
       "271165  0806512156                               New York Sports Quiz   \n",
       "271336  359610601X  Der gelbe Stern: Die Judenvernichtung in Europ...   \n",
       "271344  0747204020                  Illustrated Encyclopedia of Cacti   \n",
       "271375  0525447644                            From One to One Hundred   \n",
       "\n",
       "                        author  year                     publisher  \n",
       "2                 Carlo D'Este  1991               HarperPerennial  \n",
       "5                      Amy Tan  1991              Putnam Pub Group  \n",
       "34              Charlotte Link  1991                      Goldmann  \n",
       "61      SUZANNE FISHER STAPLES  1991                   Laurel Leaf  \n",
       "76            H. Jackson Brown  1991                 Thomas Nelson  \n",
       "...                        ...   ...                           ...  \n",
       "271142        Jane Ellen Wayne  1991            St. Martin's Press  \n",
       "271165           Brenda Alesii  1991  Carol Publishing Corporation  \n",
       "271336    Gerhard Schoenberner  1991                       Fischer  \n",
       "271344           Glass Charles  1991                      Headline  \n",
       "271375              Teri Sloat  1991                  Dutton Books  \n",
       "\n",
       "[9389 rows x 5 columns]"
      ]
     },
     "execution_count": 68,
     "metadata": {},
     "output_type": "execute_result"
    }
   ],
   "source": [
    "# Pandas also has a query method that offers its own query language that can resemble\n",
    "# a WHERE clause more closely:\n",
    "\n",
    "books.query(\"year == 1991\")"
   ]
  },
  {
   "cell_type": "markdown",
   "metadata": {
    "colab_type": "text",
    "id": "lvcKnpK96CQP"
   },
   "source": [
    "### Joining data\n",
    "\n",
    "All of the above has shown some things that can be done with one table or view. We can also join multiple tables in Pandas without reference to SQL joins. The syntax is different from SQL, but the underlying logic is very similar.\n",
    "\n",
    "First let's load the other two tables into dataframes:"
   ]
  },
  {
   "cell_type": "code",
   "execution_count": 69,
   "metadata": {
    "colab": {
     "base_uri": "https://localhost:8080/",
     "height": 204
    },
    "colab_type": "code",
    "id": "fqfTCM_WVCvU",
    "outputId": "687f0cff-b195-488a-e8df-f22e6ebc5645"
   },
   "outputs": [
    {
     "data": {
      "text/html": [
       "<div>\n",
       "<style scoped>\n",
       "    .dataframe tbody tr th:only-of-type {\n",
       "        vertical-align: middle;\n",
       "    }\n",
       "\n",
       "    .dataframe tbody tr th {\n",
       "        vertical-align: top;\n",
       "    }\n",
       "\n",
       "    .dataframe thead th {\n",
       "        text-align: right;\n",
       "    }\n",
       "</style>\n",
       "<table border=\"1\" class=\"dataframe\">\n",
       "  <thead>\n",
       "    <tr style=\"text-align: right;\">\n",
       "      <th></th>\n",
       "      <th>userid</th>\n",
       "      <th>ISBN</th>\n",
       "      <th>rating</th>\n",
       "    </tr>\n",
       "  </thead>\n",
       "  <tbody>\n",
       "    <tr>\n",
       "      <th>0</th>\n",
       "      <td>276725</td>\n",
       "      <td>034545104X</td>\n",
       "      <td>0</td>\n",
       "    </tr>\n",
       "    <tr>\n",
       "      <th>1</th>\n",
       "      <td>276726</td>\n",
       "      <td>0155061224</td>\n",
       "      <td>5</td>\n",
       "    </tr>\n",
       "    <tr>\n",
       "      <th>2</th>\n",
       "      <td>276727</td>\n",
       "      <td>0446520802</td>\n",
       "      <td>0</td>\n",
       "    </tr>\n",
       "    <tr>\n",
       "      <th>3</th>\n",
       "      <td>276729</td>\n",
       "      <td>052165615X</td>\n",
       "      <td>3</td>\n",
       "    </tr>\n",
       "    <tr>\n",
       "      <th>4</th>\n",
       "      <td>276729</td>\n",
       "      <td>0521795028</td>\n",
       "      <td>6</td>\n",
       "    </tr>\n",
       "  </tbody>\n",
       "</table>\n",
       "</div>"
      ],
      "text/plain": [
       "   userid        ISBN  rating\n",
       "0  276725  034545104X       0\n",
       "1  276726  0155061224       5\n",
       "2  276727  0446520802       0\n",
       "3  276729  052165615X       3\n",
       "4  276729  0521795028       6"
      ]
     },
     "execution_count": 69,
     "metadata": {},
     "output_type": "execute_result"
    }
   ],
   "source": [
    "ratings = pd.read_sql_query(\"SELECT * FROM ratings;\", conn)\n",
    "ratings.head()"
   ]
  },
  {
   "cell_type": "markdown",
   "metadata": {},
   "source": [
    "<div style=\"background: #CCFFCC; padding: 0.5em\"><h1>Exercise 3</h1>\n",
    "   Following the model of the cell above where we load the ratings table above, write your own code to load the users table into a new variable called `users`, and show the top 5 rows in the same way as above.\n",
    "    </div>"
   ]
  },
  {
   "cell_type": "code",
   "execution_count": 80,
   "metadata": {
    "colab": {
     "base_uri": "https://localhost:8080/",
     "height": 204
    },
    "colab_type": "code",
    "id": "0LEEy3_yVCvX",
    "outputId": "7bbc19ff-845d-424b-b27c-4eacc76171d2"
   },
   "outputs": [],
   "source": [
    "users = _"
   ]
  },
  {
   "cell_type": "markdown",
   "metadata": {
    "colab_type": "text",
    "id": "QToVPViQ7KZO"
   },
   "source": [
    "<hr/>\n",
    "A dataframe has a `merge` method that can join it with another dataframe based on values in particular columns, or based on index values. The syntax details can get more complicated than this, but here it's straightforward because we want to join on columns that have the same name in both frames:"
   ]
  },
  {
   "cell_type": "code",
   "execution_count": 81,
   "metadata": {},
   "outputs": [
    {
     "data": {
      "text/html": [
       "<div>\n",
       "<style scoped>\n",
       "    .dataframe tbody tr th:only-of-type {\n",
       "        vertical-align: middle;\n",
       "    }\n",
       "\n",
       "    .dataframe tbody tr th {\n",
       "        vertical-align: top;\n",
       "    }\n",
       "\n",
       "    .dataframe thead th {\n",
       "        text-align: right;\n",
       "    }\n",
       "</style>\n",
       "<table border=\"1\" class=\"dataframe\">\n",
       "  <thead>\n",
       "    <tr style=\"text-align: right;\">\n",
       "      <th></th>\n",
       "      <th>userid</th>\n",
       "      <th>location</th>\n",
       "      <th>age</th>\n",
       "    </tr>\n",
       "  </thead>\n",
       "  <tbody>\n",
       "    <tr>\n",
       "      <th>0</th>\n",
       "      <td>1</td>\n",
       "      <td>nyc, new york, usa</td>\n",
       "      <td>NULL</td>\n",
       "    </tr>\n",
       "    <tr>\n",
       "      <th>1</th>\n",
       "      <td>2</td>\n",
       "      <td>stockton, california, usa</td>\n",
       "      <td>18</td>\n",
       "    </tr>\n",
       "    <tr>\n",
       "      <th>2</th>\n",
       "      <td>3</td>\n",
       "      <td>moscow, yukon territory, russia</td>\n",
       "      <td>NULL</td>\n",
       "    </tr>\n",
       "    <tr>\n",
       "      <th>3</th>\n",
       "      <td>4</td>\n",
       "      <td>porto, v.n.gaia, portugal</td>\n",
       "      <td>17</td>\n",
       "    </tr>\n",
       "    <tr>\n",
       "      <th>4</th>\n",
       "      <td>5</td>\n",
       "      <td>farnborough, hants, united kingdom</td>\n",
       "      <td>NULL</td>\n",
       "    </tr>\n",
       "  </tbody>\n",
       "</table>\n",
       "</div>"
      ],
      "text/plain": [
       "   userid                            location   age\n",
       "0       1                  nyc, new york, usa  NULL\n",
       "1       2           stockton, california, usa    18\n",
       "2       3     moscow, yukon territory, russia  NULL\n",
       "3       4           porto, v.n.gaia, portugal    17\n",
       "4       5  farnborough, hants, united kingdom  NULL"
      ]
     },
     "execution_count": 81,
     "metadata": {},
     "output_type": "execute_result"
    }
   ],
   "source": [
    "users.head()"
   ]
  },
  {
   "cell_type": "code",
   "execution_count": 82,
   "metadata": {
    "colab": {
     "base_uri": "https://localhost:8080/",
     "height": 204
    },
    "colab_type": "code",
    "id": "4QF9n2cnVCvZ",
    "outputId": "7c8060f0-46bf-4790-eaed-0b497a650ebc"
   },
   "outputs": [
    {
     "data": {
      "text/html": [
       "<div>\n",
       "<style scoped>\n",
       "    .dataframe tbody tr th:only-of-type {\n",
       "        vertical-align: middle;\n",
       "    }\n",
       "\n",
       "    .dataframe tbody tr th {\n",
       "        vertical-align: top;\n",
       "    }\n",
       "\n",
       "    .dataframe thead th {\n",
       "        text-align: right;\n",
       "    }\n",
       "</style>\n",
       "<table border=\"1\" class=\"dataframe\">\n",
       "  <thead>\n",
       "    <tr style=\"text-align: right;\">\n",
       "      <th></th>\n",
       "      <th>userid</th>\n",
       "      <th>ISBN</th>\n",
       "      <th>rating</th>\n",
       "      <th>location</th>\n",
       "      <th>age</th>\n",
       "    </tr>\n",
       "  </thead>\n",
       "  <tbody>\n",
       "    <tr>\n",
       "      <th>0</th>\n",
       "      <td>276725</td>\n",
       "      <td>034545104X</td>\n",
       "      <td>0</td>\n",
       "      <td>tyler, texas, usa</td>\n",
       "      <td>NULL</td>\n",
       "    </tr>\n",
       "    <tr>\n",
       "      <th>1</th>\n",
       "      <td>276726</td>\n",
       "      <td>0155061224</td>\n",
       "      <td>5</td>\n",
       "      <td>seattle, washington, usa</td>\n",
       "      <td>NULL</td>\n",
       "    </tr>\n",
       "    <tr>\n",
       "      <th>2</th>\n",
       "      <td>276727</td>\n",
       "      <td>0446520802</td>\n",
       "      <td>0</td>\n",
       "      <td>h, new south wales, australia</td>\n",
       "      <td>16</td>\n",
       "    </tr>\n",
       "    <tr>\n",
       "      <th>3</th>\n",
       "      <td>276729</td>\n",
       "      <td>052165615X</td>\n",
       "      <td>3</td>\n",
       "      <td>rijeka, n/a, croatia</td>\n",
       "      <td>16</td>\n",
       "    </tr>\n",
       "    <tr>\n",
       "      <th>4</th>\n",
       "      <td>276729</td>\n",
       "      <td>0521795028</td>\n",
       "      <td>6</td>\n",
       "      <td>rijeka, n/a, croatia</td>\n",
       "      <td>16</td>\n",
       "    </tr>\n",
       "  </tbody>\n",
       "</table>\n",
       "</div>"
      ],
      "text/plain": [
       "   userid        ISBN  rating                       location   age\n",
       "0  276725  034545104X       0              tyler, texas, usa  NULL\n",
       "1  276726  0155061224       5       seattle, washington, usa  NULL\n",
       "2  276727  0446520802       0  h, new south wales, australia    16\n",
       "3  276729  052165615X       3           rijeka, n/a, croatia    16\n",
       "4  276729  0521795028       6           rijeka, n/a, croatia    16"
      ]
     },
     "execution_count": 82,
     "metadata": {},
     "output_type": "execute_result"
    }
   ],
   "source": [
    "ratings.merge(users, on=\"userid\").head()"
   ]
  },
  {
   "cell_type": "markdown",
   "metadata": {
    "colab_type": "text",
    "id": "rGZLYErY8Aa9"
   },
   "source": [
    "Because the result of that merge is a dataframe, that resulting dataframe also has a merge method, so we can chain the methods. Compare this with the SQL syntax that we used to join these same tables to make the `crossingdata` view."
   ]
  },
  {
   "cell_type": "code",
   "execution_count": 83,
   "metadata": {
    "colab": {},
    "colab_type": "code",
    "id": "yKk1Ca-9VCvb"
   },
   "outputs": [],
   "source": [
    "crossings = ratings.merge(users, on=\"userid\").merge(books, on=\"ISBN\")"
   ]
  },
  {
   "cell_type": "code",
   "execution_count": 84,
   "metadata": {
    "colab": {
     "base_uri": "https://localhost:8080/",
     "height": 35
    },
    "colab_type": "code",
    "id": "WN7zMhqBVCvd",
    "outputId": "f35b1941-1490-4d71-86ef-58ed4e125e57"
   },
   "outputs": [
    {
     "data": {
      "text/plain": [
       "(443586, 9)"
      ]
     },
     "execution_count": 84,
     "metadata": {},
     "output_type": "execute_result"
    }
   ],
   "source": [
    "crossings.shape"
   ]
  },
  {
   "cell_type": "code",
   "execution_count": 85,
   "metadata": {
    "colab": {
     "base_uri": "https://localhost:8080/",
     "height": 204
    },
    "colab_type": "code",
    "id": "oZZvHb_DVCvf",
    "outputId": "c583c642-3287-4cab-c218-6024d636d91c"
   },
   "outputs": [
    {
     "data": {
      "text/html": [
       "<div>\n",
       "<style scoped>\n",
       "    .dataframe tbody tr th:only-of-type {\n",
       "        vertical-align: middle;\n",
       "    }\n",
       "\n",
       "    .dataframe tbody tr th {\n",
       "        vertical-align: top;\n",
       "    }\n",
       "\n",
       "    .dataframe thead th {\n",
       "        text-align: right;\n",
       "    }\n",
       "</style>\n",
       "<table border=\"1\" class=\"dataframe\">\n",
       "  <thead>\n",
       "    <tr style=\"text-align: right;\">\n",
       "      <th></th>\n",
       "      <th>userid</th>\n",
       "      <th>ISBN</th>\n",
       "      <th>rating</th>\n",
       "      <th>location</th>\n",
       "      <th>age</th>\n",
       "      <th>title</th>\n",
       "      <th>author</th>\n",
       "      <th>year</th>\n",
       "      <th>publisher</th>\n",
       "    </tr>\n",
       "  </thead>\n",
       "  <tbody>\n",
       "    <tr>\n",
       "      <th>0</th>\n",
       "      <td>276725</td>\n",
       "      <td>034545104X</td>\n",
       "      <td>0</td>\n",
       "      <td>tyler, texas, usa</td>\n",
       "      <td>NULL</td>\n",
       "      <td>Flesh Tones: A Novel</td>\n",
       "      <td>M. J. Rose</td>\n",
       "      <td>2002</td>\n",
       "      <td>Ballantine Books</td>\n",
       "    </tr>\n",
       "    <tr>\n",
       "      <th>1</th>\n",
       "      <td>2313</td>\n",
       "      <td>034545104X</td>\n",
       "      <td>5</td>\n",
       "      <td>cincinnati, ohio, usa</td>\n",
       "      <td>23</td>\n",
       "      <td>Flesh Tones: A Novel</td>\n",
       "      <td>M. J. Rose</td>\n",
       "      <td>2002</td>\n",
       "      <td>Ballantine Books</td>\n",
       "    </tr>\n",
       "    <tr>\n",
       "      <th>2</th>\n",
       "      <td>163202</td>\n",
       "      <td>034545104X</td>\n",
       "      <td>0</td>\n",
       "      <td>los angeles, california, usa</td>\n",
       "      <td>26</td>\n",
       "      <td>Flesh Tones: A Novel</td>\n",
       "      <td>M. J. Rose</td>\n",
       "      <td>2002</td>\n",
       "      <td>Ballantine Books</td>\n",
       "    </tr>\n",
       "    <tr>\n",
       "      <th>3</th>\n",
       "      <td>168816</td>\n",
       "      <td>034545104X</td>\n",
       "      <td>0</td>\n",
       "      <td>santa clara, california, usa</td>\n",
       "      <td>35</td>\n",
       "      <td>Flesh Tones: A Novel</td>\n",
       "      <td>M. J. Rose</td>\n",
       "      <td>2002</td>\n",
       "      <td>Ballantine Books</td>\n",
       "    </tr>\n",
       "    <tr>\n",
       "      <th>4</th>\n",
       "      <td>171912</td>\n",
       "      <td>034545104X</td>\n",
       "      <td>5</td>\n",
       "      <td>springfield, missouri, usa</td>\n",
       "      <td>NULL</td>\n",
       "      <td>Flesh Tones: A Novel</td>\n",
       "      <td>M. J. Rose</td>\n",
       "      <td>2002</td>\n",
       "      <td>Ballantine Books</td>\n",
       "    </tr>\n",
       "  </tbody>\n",
       "</table>\n",
       "</div>"
      ],
      "text/plain": [
       "   userid        ISBN  rating                      location   age  \\\n",
       "0  276725  034545104X       0             tyler, texas, usa  NULL   \n",
       "1    2313  034545104X       5         cincinnati, ohio, usa    23   \n",
       "2  163202  034545104X       0  los angeles, california, usa    26   \n",
       "3  168816  034545104X       0  santa clara, california, usa    35   \n",
       "4  171912  034545104X       5    springfield, missouri, usa  NULL   \n",
       "\n",
       "                  title      author  year         publisher  \n",
       "0  Flesh Tones: A Novel  M. J. Rose  2002  Ballantine Books  \n",
       "1  Flesh Tones: A Novel  M. J. Rose  2002  Ballantine Books  \n",
       "2  Flesh Tones: A Novel  M. J. Rose  2002  Ballantine Books  \n",
       "3  Flesh Tones: A Novel  M. J. Rose  2002  Ballantine Books  \n",
       "4  Flesh Tones: A Novel  M. J. Rose  2002  Ballantine Books  "
      ]
     },
     "execution_count": 85,
     "metadata": {},
     "output_type": "execute_result"
    }
   ],
   "source": [
    "crossings.head()"
   ]
  },
  {
   "cell_type": "code",
   "execution_count": 86,
   "metadata": {
    "colab": {
     "base_uri": "https://localhost:8080/",
     "height": 204
    },
    "colab_type": "code",
    "id": "J_VBBhyxVCvi",
    "outputId": "fcdea2e3-95f3-457e-fc43-0e48550f1be1"
   },
   "outputs": [
    {
     "data": {
      "text/html": [
       "<div>\n",
       "<style scoped>\n",
       "    .dataframe tbody tr th:only-of-type {\n",
       "        vertical-align: middle;\n",
       "    }\n",
       "\n",
       "    .dataframe tbody tr th {\n",
       "        vertical-align: top;\n",
       "    }\n",
       "\n",
       "    .dataframe thead th {\n",
       "        text-align: right;\n",
       "    }\n",
       "</style>\n",
       "<table border=\"1\" class=\"dataframe\">\n",
       "  <thead>\n",
       "    <tr style=\"text-align: right;\">\n",
       "      <th></th>\n",
       "      <th>userid</th>\n",
       "      <th>ISBN</th>\n",
       "      <th>rating</th>\n",
       "      <th>location</th>\n",
       "      <th>age</th>\n",
       "      <th>title</th>\n",
       "      <th>author</th>\n",
       "      <th>year</th>\n",
       "      <th>publisher</th>\n",
       "    </tr>\n",
       "  </thead>\n",
       "  <tbody>\n",
       "    <tr>\n",
       "      <th>443576</th>\n",
       "      <td>276688</td>\n",
       "      <td>0688033628</td>\n",
       "      <td>0</td>\n",
       "      <td>fort lee, new jersey, usa</td>\n",
       "      <td>NULL</td>\n",
       "      <td>Thursday the Rabbi Walked Out</td>\n",
       "      <td>Harry Kemelman</td>\n",
       "      <td>1978</td>\n",
       "      <td>Harpercollins</td>\n",
       "    </tr>\n",
       "    <tr>\n",
       "      <th>443577</th>\n",
       "      <td>276688</td>\n",
       "      <td>0786011157</td>\n",
       "      <td>7</td>\n",
       "      <td>fort lee, new jersey, usa</td>\n",
       "      <td>NULL</td>\n",
       "      <td>Act of Betrayal</td>\n",
       "      <td>Morgan Avery</td>\n",
       "      <td>2000</td>\n",
       "      <td>Kensington Publishing Corporation</td>\n",
       "    </tr>\n",
       "    <tr>\n",
       "      <th>443578</th>\n",
       "      <td>276688</td>\n",
       "      <td>0788192043</td>\n",
       "      <td>0</td>\n",
       "      <td>fort lee, new jersey, usa</td>\n",
       "      <td>NULL</td>\n",
       "      <td>The Hundred Secret Senses</td>\n",
       "      <td>Amy Tan</td>\n",
       "      <td>2000</td>\n",
       "      <td>DIANE Publishing Company</td>\n",
       "    </tr>\n",
       "    <tr>\n",
       "      <th>443579</th>\n",
       "      <td>276688</td>\n",
       "      <td>1575660792</td>\n",
       "      <td>7</td>\n",
       "      <td>fort lee, new jersey, usa</td>\n",
       "      <td>NULL</td>\n",
       "      <td>Gray Matter</td>\n",
       "      <td>Shirley Kennett</td>\n",
       "      <td>1996</td>\n",
       "      <td>Kensington Publishing Corporation</td>\n",
       "    </tr>\n",
       "    <tr>\n",
       "      <th>443580</th>\n",
       "      <td>276688</td>\n",
       "      <td>1580600506</td>\n",
       "      <td>0</td>\n",
       "      <td>fort lee, new jersey, usa</td>\n",
       "      <td>NULL</td>\n",
       "      <td>The Fallen Man</td>\n",
       "      <td>Tony Hillerman</td>\n",
       "      <td>1996</td>\n",
       "      <td>HarperCollins</td>\n",
       "    </tr>\n",
       "    <tr>\n",
       "      <th>443581</th>\n",
       "      <td>276690</td>\n",
       "      <td>0590907301</td>\n",
       "      <td>0</td>\n",
       "      <td>wakeman, ohio, usa</td>\n",
       "      <td>43</td>\n",
       "      <td>Triplet Trouble and the Class Trip (Triplet Tr...</td>\n",
       "      <td>Debbie Dadey</td>\n",
       "      <td>1997</td>\n",
       "      <td>Apple</td>\n",
       "    </tr>\n",
       "    <tr>\n",
       "      <th>443582</th>\n",
       "      <td>276704</td>\n",
       "      <td>0380796155</td>\n",
       "      <td>5</td>\n",
       "      <td>cedar park, texas, usa</td>\n",
       "      <td>NULL</td>\n",
       "      <td>White Abacus</td>\n",
       "      <td>Damien Broderick</td>\n",
       "      <td>1998</td>\n",
       "      <td>Eos</td>\n",
       "    </tr>\n",
       "    <tr>\n",
       "      <th>443583</th>\n",
       "      <td>276704</td>\n",
       "      <td>059032120X</td>\n",
       "      <td>0</td>\n",
       "      <td>cedar park, texas, usa</td>\n",
       "      <td>NULL</td>\n",
       "      <td>Sarah Bishop</td>\n",
       "      <td>Scott Odell</td>\n",
       "      <td>0</td>\n",
       "      <td>Scholastic Inc</td>\n",
       "    </tr>\n",
       "    <tr>\n",
       "      <th>443584</th>\n",
       "      <td>276704</td>\n",
       "      <td>0679752714</td>\n",
       "      <td>0</td>\n",
       "      <td>cedar park, texas, usa</td>\n",
       "      <td>NULL</td>\n",
       "      <td>A Desert of Pure Feeling (Vintage Contemporaries)</td>\n",
       "      <td>Judith Freeman</td>\n",
       "      <td>1997</td>\n",
       "      <td>Vintage Books USA</td>\n",
       "    </tr>\n",
       "    <tr>\n",
       "      <th>443585</th>\n",
       "      <td>276704</td>\n",
       "      <td>0806917695</td>\n",
       "      <td>5</td>\n",
       "      <td>cedar park, texas, usa</td>\n",
       "      <td>NULL</td>\n",
       "      <td>Perplexing Lateral Thinking Puzzles: Scholasti...</td>\n",
       "      <td>Paul Sloane</td>\n",
       "      <td>1997</td>\n",
       "      <td>Sterling Publishing</td>\n",
       "    </tr>\n",
       "  </tbody>\n",
       "</table>\n",
       "</div>"
      ],
      "text/plain": [
       "        userid        ISBN  rating                   location   age  \\\n",
       "443576  276688  0688033628       0  fort lee, new jersey, usa  NULL   \n",
       "443577  276688  0786011157       7  fort lee, new jersey, usa  NULL   \n",
       "443578  276688  0788192043       0  fort lee, new jersey, usa  NULL   \n",
       "443579  276688  1575660792       7  fort lee, new jersey, usa  NULL   \n",
       "443580  276688  1580600506       0  fort lee, new jersey, usa  NULL   \n",
       "443581  276690  0590907301       0         wakeman, ohio, usa    43   \n",
       "443582  276704  0380796155       5     cedar park, texas, usa  NULL   \n",
       "443583  276704  059032120X       0     cedar park, texas, usa  NULL   \n",
       "443584  276704  0679752714       0     cedar park, texas, usa  NULL   \n",
       "443585  276704  0806917695       5     cedar park, texas, usa  NULL   \n",
       "\n",
       "                                                    title            author  \\\n",
       "443576                      Thursday the Rabbi Walked Out    Harry Kemelman   \n",
       "443577                                    Act of Betrayal      Morgan Avery   \n",
       "443578                          The Hundred Secret Senses           Amy Tan   \n",
       "443579                                        Gray Matter   Shirley Kennett   \n",
       "443580                                     The Fallen Man    Tony Hillerman   \n",
       "443581  Triplet Trouble and the Class Trip (Triplet Tr...      Debbie Dadey   \n",
       "443582                                       White Abacus  Damien Broderick   \n",
       "443583                                       Sarah Bishop       Scott Odell   \n",
       "443584  A Desert of Pure Feeling (Vintage Contemporaries)    Judith Freeman   \n",
       "443585  Perplexing Lateral Thinking Puzzles: Scholasti...       Paul Sloane   \n",
       "\n",
       "        year                          publisher  \n",
       "443576  1978                      Harpercollins  \n",
       "443577  2000  Kensington Publishing Corporation  \n",
       "443578  2000           DIANE Publishing Company  \n",
       "443579  1996  Kensington Publishing Corporation  \n",
       "443580  1996                      HarperCollins  \n",
       "443581  1997                              Apple  \n",
       "443582  1998                                Eos  \n",
       "443583     0                     Scholastic Inc  \n",
       "443584  1997                  Vintage Books USA  \n",
       "443585  1997                Sterling Publishing  "
      ]
     },
     "execution_count": 86,
     "metadata": {},
     "output_type": "execute_result"
    }
   ],
   "source": [
    "crossings.tail(10)"
   ]
  },
  {
   "cell_type": "markdown",
   "metadata": {
    "colab_type": "text",
    "id": "STeDru3hVCvq"
   },
   "source": [
    "Now that we have a dataframe keeping our records organized, we have a great way to split out country information into its own column:"
   ]
  },
  {
   "cell_type": "code",
   "execution_count": 87,
   "metadata": {
    "colab": {
     "base_uri": "https://localhost:8080/",
     "height": 233
    },
    "colab_type": "code",
    "id": "ERTnUl6v8tIs",
    "outputId": "dd7944bc-f0eb-415b-bee7-f9a0d885bdd0"
   },
   "outputs": [
    {
     "data": {
      "text/plain": [
       "0                    tyler, texas, usa\n",
       "1                cincinnati, ohio, usa\n",
       "2         los angeles, california, usa\n",
       "3         santa clara, california, usa\n",
       "4           springfield, missouri, usa\n",
       "                      ...             \n",
       "443581              wakeman, ohio, usa\n",
       "443582          cedar park, texas, usa\n",
       "443583          cedar park, texas, usa\n",
       "443584          cedar park, texas, usa\n",
       "443585          cedar park, texas, usa\n",
       "Name: location, Length: 443586, dtype: object"
      ]
     },
     "execution_count": 87,
     "metadata": {},
     "output_type": "execute_result"
    }
   ],
   "source": [
    "crossings['location']"
   ]
  },
  {
   "cell_type": "code",
   "execution_count": 88,
   "metadata": {
    "colab": {
     "base_uri": "https://localhost:8080/",
     "height": 125
    },
    "colab_type": "code",
    "id": "9Oj0x1NfVCvt",
    "outputId": "00614c87-4e07-4d24-ad2f-3da1d519291d"
   },
   "outputs": [
    {
     "data": {
      "text/plain": [
       "0    usa\n",
       "1    usa\n",
       "2    usa\n",
       "3    usa\n",
       "4    usa\n",
       "Name: location, dtype: object"
      ]
     },
     "execution_count": 88,
     "metadata": {},
     "output_type": "execute_result"
    }
   ],
   "source": [
    "crossings['location'].map(lambda x: x.split(\",\")[-1].strip()).head()"
   ]
  },
  {
   "cell_type": "markdown",
   "metadata": {
    "colab_type": "text",
    "id": "xRXNIgRA82Hd"
   },
   "source": [
    "In the cells above we just *evaluated* expressions without saving them. Now we can *assign* them to a new column of our existing dataframe:"
   ]
  },
  {
   "cell_type": "code",
   "execution_count": 89,
   "metadata": {
    "colab": {},
    "colab_type": "code",
    "id": "tNKHS_UeVCvv"
   },
   "outputs": [],
   "source": [
    "crossings['country'] = crossings['location'].map(lambda x: x.split(\",\")[-1].strip())"
   ]
  },
  {
   "cell_type": "code",
   "execution_count": 90,
   "metadata": {
    "colab": {
     "base_uri": "https://localhost:8080/",
     "height": 204
    },
    "colab_type": "code",
    "id": "QAIHIOlg9Aq2",
    "outputId": "068aa3fb-99b7-4ffa-ee93-7eea4865da78"
   },
   "outputs": [
    {
     "data": {
      "text/html": [
       "<div>\n",
       "<style scoped>\n",
       "    .dataframe tbody tr th:only-of-type {\n",
       "        vertical-align: middle;\n",
       "    }\n",
       "\n",
       "    .dataframe tbody tr th {\n",
       "        vertical-align: top;\n",
       "    }\n",
       "\n",
       "    .dataframe thead th {\n",
       "        text-align: right;\n",
       "    }\n",
       "</style>\n",
       "<table border=\"1\" class=\"dataframe\">\n",
       "  <thead>\n",
       "    <tr style=\"text-align: right;\">\n",
       "      <th></th>\n",
       "      <th>userid</th>\n",
       "      <th>ISBN</th>\n",
       "      <th>rating</th>\n",
       "      <th>location</th>\n",
       "      <th>age</th>\n",
       "      <th>title</th>\n",
       "      <th>author</th>\n",
       "      <th>year</th>\n",
       "      <th>publisher</th>\n",
       "      <th>country</th>\n",
       "    </tr>\n",
       "  </thead>\n",
       "  <tbody>\n",
       "    <tr>\n",
       "      <th>0</th>\n",
       "      <td>276725</td>\n",
       "      <td>034545104X</td>\n",
       "      <td>0</td>\n",
       "      <td>tyler, texas, usa</td>\n",
       "      <td>NULL</td>\n",
       "      <td>Flesh Tones: A Novel</td>\n",
       "      <td>M. J. Rose</td>\n",
       "      <td>2002</td>\n",
       "      <td>Ballantine Books</td>\n",
       "      <td>usa</td>\n",
       "    </tr>\n",
       "    <tr>\n",
       "      <th>1</th>\n",
       "      <td>2313</td>\n",
       "      <td>034545104X</td>\n",
       "      <td>5</td>\n",
       "      <td>cincinnati, ohio, usa</td>\n",
       "      <td>23</td>\n",
       "      <td>Flesh Tones: A Novel</td>\n",
       "      <td>M. J. Rose</td>\n",
       "      <td>2002</td>\n",
       "      <td>Ballantine Books</td>\n",
       "      <td>usa</td>\n",
       "    </tr>\n",
       "    <tr>\n",
       "      <th>2</th>\n",
       "      <td>163202</td>\n",
       "      <td>034545104X</td>\n",
       "      <td>0</td>\n",
       "      <td>los angeles, california, usa</td>\n",
       "      <td>26</td>\n",
       "      <td>Flesh Tones: A Novel</td>\n",
       "      <td>M. J. Rose</td>\n",
       "      <td>2002</td>\n",
       "      <td>Ballantine Books</td>\n",
       "      <td>usa</td>\n",
       "    </tr>\n",
       "    <tr>\n",
       "      <th>3</th>\n",
       "      <td>168816</td>\n",
       "      <td>034545104X</td>\n",
       "      <td>0</td>\n",
       "      <td>santa clara, california, usa</td>\n",
       "      <td>35</td>\n",
       "      <td>Flesh Tones: A Novel</td>\n",
       "      <td>M. J. Rose</td>\n",
       "      <td>2002</td>\n",
       "      <td>Ballantine Books</td>\n",
       "      <td>usa</td>\n",
       "    </tr>\n",
       "    <tr>\n",
       "      <th>4</th>\n",
       "      <td>171912</td>\n",
       "      <td>034545104X</td>\n",
       "      <td>5</td>\n",
       "      <td>springfield, missouri, usa</td>\n",
       "      <td>NULL</td>\n",
       "      <td>Flesh Tones: A Novel</td>\n",
       "      <td>M. J. Rose</td>\n",
       "      <td>2002</td>\n",
       "      <td>Ballantine Books</td>\n",
       "      <td>usa</td>\n",
       "    </tr>\n",
       "  </tbody>\n",
       "</table>\n",
       "</div>"
      ],
      "text/plain": [
       "   userid        ISBN  rating                      location   age  \\\n",
       "0  276725  034545104X       0             tyler, texas, usa  NULL   \n",
       "1    2313  034545104X       5         cincinnati, ohio, usa    23   \n",
       "2  163202  034545104X       0  los angeles, california, usa    26   \n",
       "3  168816  034545104X       0  santa clara, california, usa    35   \n",
       "4  171912  034545104X       5    springfield, missouri, usa  NULL   \n",
       "\n",
       "                  title      author  year         publisher country  \n",
       "0  Flesh Tones: A Novel  M. J. Rose  2002  Ballantine Books     usa  \n",
       "1  Flesh Tones: A Novel  M. J. Rose  2002  Ballantine Books     usa  \n",
       "2  Flesh Tones: A Novel  M. J. Rose  2002  Ballantine Books     usa  \n",
       "3  Flesh Tones: A Novel  M. J. Rose  2002  Ballantine Books     usa  \n",
       "4  Flesh Tones: A Novel  M. J. Rose  2002  Ballantine Books     usa  "
      ]
     },
     "execution_count": 90,
     "metadata": {},
     "output_type": "execute_result"
    }
   ],
   "source": [
    "crossings.head()"
   ]
  },
  {
   "cell_type": "code",
   "execution_count": 91,
   "metadata": {
    "colab": {
     "base_uri": "https://localhost:8080/",
     "height": 390
    },
    "colab_type": "code",
    "id": "hKFz4C4uVCvx",
    "outputId": "56e34624-4ded-4c2e-f4a8-560166fdcabe"
   },
   "outputs": [
    {
     "data": {
      "text/html": [
       "<div>\n",
       "<style scoped>\n",
       "    .dataframe tbody tr th:only-of-type {\n",
       "        vertical-align: middle;\n",
       "    }\n",
       "\n",
       "    .dataframe tbody tr th {\n",
       "        vertical-align: top;\n",
       "    }\n",
       "\n",
       "    .dataframe thead th {\n",
       "        text-align: right;\n",
       "    }\n",
       "</style>\n",
       "<table border=\"1\" class=\"dataframe\">\n",
       "  <thead>\n",
       "    <tr style=\"text-align: right;\">\n",
       "      <th></th>\n",
       "      <th>userid</th>\n",
       "    </tr>\n",
       "    <tr>\n",
       "      <th>country</th>\n",
       "      <th></th>\n",
       "    </tr>\n",
       "  </thead>\n",
       "  <tbody>\n",
       "    <tr>\n",
       "      <th>usa</th>\n",
       "      <td>322171</td>\n",
       "    </tr>\n",
       "    <tr>\n",
       "      <th>canada</th>\n",
       "      <td>46517</td>\n",
       "    </tr>\n",
       "    <tr>\n",
       "      <th>united kingdom</th>\n",
       "      <td>13033</td>\n",
       "    </tr>\n",
       "    <tr>\n",
       "      <th>germany</th>\n",
       "      <td>11940</td>\n",
       "    </tr>\n",
       "    <tr>\n",
       "      <th></th>\n",
       "      <td>10259</td>\n",
       "    </tr>\n",
       "    <tr>\n",
       "      <th>australia</th>\n",
       "      <td>8286</td>\n",
       "    </tr>\n",
       "    <tr>\n",
       "      <th>spain</th>\n",
       "      <td>6147</td>\n",
       "    </tr>\n",
       "    <tr>\n",
       "      <th>france</th>\n",
       "      <td>3845</td>\n",
       "    </tr>\n",
       "    <tr>\n",
       "      <th>portugal</th>\n",
       "      <td>2861</td>\n",
       "    </tr>\n",
       "    <tr>\n",
       "      <th>switzerland</th>\n",
       "      <td>2417</td>\n",
       "    </tr>\n",
       "  </tbody>\n",
       "</table>\n",
       "</div>"
      ],
      "text/plain": [
       "                userid\n",
       "country               \n",
       "usa             322171\n",
       "canada           46517\n",
       "united kingdom   13033\n",
       "germany          11940\n",
       "                 10259\n",
       "australia         8286\n",
       "spain             6147\n",
       "france            3845\n",
       "portugal          2861\n",
       "switzerland       2417"
      ]
     },
     "execution_count": 91,
     "metadata": {},
     "output_type": "execute_result"
    }
   ],
   "source": [
    "crossings[['country','userid']].groupby(\"country\").count().sort_values(by=\"userid\", ascending=False).head(10)"
   ]
  },
  {
   "cell_type": "markdown",
   "metadata": {
    "colab_type": "text",
    "id": "ojw6Lynp9mjk"
   },
   "source": [
    "# More complex data reorganization\n",
    "\n",
    "We can group by the combinations of values in two columns and count up the results. \n",
    "\n",
    "Different countries will have different distributions of ages. Let's reorganize the data to let us start to ask questions about those distributions.\n",
    "\n",
    "First we will group by country and age, and count up. \n",
    "\n",
    "After aggregating, country and age make a two-level index. The `reset_index` method flattens everything out so that they look like ordinary columns again."
   ]
  },
  {
   "cell_type": "code",
   "execution_count": 92,
   "metadata": {},
   "outputs": [],
   "source": [
    "tmp = crossings[['country','age','userid']].groupby(['country','age']).count()"
   ]
  },
  {
   "cell_type": "code",
   "execution_count": null,
   "metadata": {},
   "outputs": [],
   "source": []
  },
  {
   "cell_type": "code",
   "execution_count": 93,
   "metadata": {},
   "outputs": [],
   "source": [
    "tmp.columns = ['count']"
   ]
  },
  {
   "cell_type": "code",
   "execution_count": 94,
   "metadata": {},
   "outputs": [],
   "source": [
    "tmp = tmp.reset_index()"
   ]
  },
  {
   "cell_type": "code",
   "execution_count": 95,
   "metadata": {
    "colab": {},
    "colab_type": "code",
    "id": "J4Z5XYob9PHe"
   },
   "outputs": [],
   "source": [
    "tmp = crossings[['country','age','userid']].groupby(['country','age']).count()\n",
    "tmp.columns = ['count']\n",
    "tmp = tmp.reset_index()"
   ]
  },
  {
   "cell_type": "markdown",
   "metadata": {},
   "source": [
    "<div style=\"background: #CCFFCC; padding: 0.5em\"><h1>Exercise 4</h1>\n",
    "   The `tmp` dataframe has the data that we're interested in. In the next cell, write <i>and evaluate</i> an expression to look at the first 10 rows of `tmp`.\n",
    "    </div>"
   ]
  },
  {
   "cell_type": "code",
   "execution_count": null,
   "metadata": {},
   "outputs": [],
   "source": []
  },
  {
   "cell_type": "markdown",
   "metadata": {
    "colab_type": "text",
    "id": "tR8JoSmS-R_8"
   },
   "source": [
    "<hr/>Empty values and unexpected values may show up at the extremes in the country column, so rather than look at the head of the dataframe, let's check some values in the middle of it to see what it looks like:"
   ]
  },
  {
   "cell_type": "code",
   "execution_count": 96,
   "metadata": {
    "colab": {
     "base_uri": "https://localhost:8080/",
     "height": 390
    },
    "colab_type": "code",
    "id": "2HCJsnMr9OOt",
    "outputId": "f7eb8daf-a81d-44ae-a23b-d59258d39462"
   },
   "outputs": [
    {
     "data": {
      "text/html": [
       "<div>\n",
       "<style scoped>\n",
       "    .dataframe tbody tr th:only-of-type {\n",
       "        vertical-align: middle;\n",
       "    }\n",
       "\n",
       "    .dataframe tbody tr th {\n",
       "        vertical-align: top;\n",
       "    }\n",
       "\n",
       "    .dataframe thead th {\n",
       "        text-align: right;\n",
       "    }\n",
       "</style>\n",
       "<table border=\"1\" class=\"dataframe\">\n",
       "  <thead>\n",
       "    <tr style=\"text-align: right;\">\n",
       "      <th></th>\n",
       "      <th>country</th>\n",
       "      <th>age</th>\n",
       "      <th>count</th>\n",
       "    </tr>\n",
       "  </thead>\n",
       "  <tbody>\n",
       "    <tr>\n",
       "      <th>1001</th>\n",
       "      <td>norway</td>\n",
       "      <td>35</td>\n",
       "      <td>1</td>\n",
       "    </tr>\n",
       "    <tr>\n",
       "      <th>1002</th>\n",
       "      <td>norway</td>\n",
       "      <td>37</td>\n",
       "      <td>1</td>\n",
       "    </tr>\n",
       "    <tr>\n",
       "      <th>1003</th>\n",
       "      <td>norway</td>\n",
       "      <td>45</td>\n",
       "      <td>1</td>\n",
       "    </tr>\n",
       "    <tr>\n",
       "      <th>1004</th>\n",
       "      <td>norway</td>\n",
       "      <td>67</td>\n",
       "      <td>1</td>\n",
       "    </tr>\n",
       "    <tr>\n",
       "      <th>1005</th>\n",
       "      <td>norway</td>\n",
       "      <td>101</td>\n",
       "      <td>1</td>\n",
       "    </tr>\n",
       "    <tr>\n",
       "      <th>1006</th>\n",
       "      <td>norway</td>\n",
       "      <td>NULL</td>\n",
       "      <td>28</td>\n",
       "    </tr>\n",
       "    <tr>\n",
       "      <th>1007</th>\n",
       "      <td>nz</td>\n",
       "      <td>220</td>\n",
       "      <td>15</td>\n",
       "    </tr>\n",
       "    <tr>\n",
       "      <th>1008</th>\n",
       "      <td>oman</td>\n",
       "      <td>64</td>\n",
       "      <td>1</td>\n",
       "    </tr>\n",
       "    <tr>\n",
       "      <th>1009</th>\n",
       "      <td>oman</td>\n",
       "      <td>NULL</td>\n",
       "      <td>1</td>\n",
       "    </tr>\n",
       "    <tr>\n",
       "      <th>1010</th>\n",
       "      <td>onondaga nation</td>\n",
       "      <td>NULL</td>\n",
       "      <td>1</td>\n",
       "    </tr>\n",
       "    <tr>\n",
       "      <th>1011</th>\n",
       "      <td>orange co</td>\n",
       "      <td>NULL</td>\n",
       "      <td>1</td>\n",
       "    </tr>\n",
       "  </tbody>\n",
       "</table>\n",
       "</div>"
      ],
      "text/plain": [
       "              country   age  count\n",
       "1001           norway    35      1\n",
       "1002           norway    37      1\n",
       "1003           norway    45      1\n",
       "1004           norway    67      1\n",
       "1005           norway   101      1\n",
       "1006           norway  NULL     28\n",
       "1007               nz   220     15\n",
       "1008             oman    64      1\n",
       "1009             oman  NULL      1\n",
       "1010  onondaga nation  NULL      1\n",
       "1011        orange co  NULL      1"
      ]
     },
     "execution_count": 96,
     "metadata": {},
     "output_type": "execute_result"
    }
   ],
   "source": [
    "tmp[1001:1012]"
   ]
  },
  {
   "cell_type": "markdown",
   "metadata": {
    "colab_type": "text",
    "id": "l9CZSU29-hFH"
   },
   "source": [
    "This is the kind of data that we're interested in, but it would be convenient to take this long list and make it more rectangular, so that each row is a different country, each column is a different age, and then we could compare counts conveniently either across ages or across countries.\n",
    "\n",
    "Pandas has pivot tables that are very much like the pivot tables we saw with spreadsheets early in the course."
   ]
  },
  {
   "cell_type": "code",
   "execution_count": 97,
   "metadata": {
    "colab": {},
    "colab_type": "code",
    "id": "7Zgp7-LhVCv4"
   },
   "outputs": [],
   "source": [
    "geo_age = tmp.pivot_table(index=\"country\", columns=\"age\", values=\"count\").fillna(0)"
   ]
  },
  {
   "cell_type": "code",
   "execution_count": 98,
   "metadata": {
    "colab": {
     "base_uri": "https://localhost:8080/",
     "height": 538
    },
    "colab_type": "code",
    "id": "bTevXV-X_Afv",
    "outputId": "0420e182-5b34-4397-ab55-20a86ca95722"
   },
   "outputs": [
    {
     "data": {
      "text/html": [
       "<div>\n",
       "<style scoped>\n",
       "    .dataframe tbody tr th:only-of-type {\n",
       "        vertical-align: middle;\n",
       "    }\n",
       "\n",
       "    .dataframe tbody tr th {\n",
       "        vertical-align: top;\n",
       "    }\n",
       "\n",
       "    .dataframe thead th {\n",
       "        text-align: right;\n",
       "    }\n",
       "</style>\n",
       "<table border=\"1\" class=\"dataframe\">\n",
       "  <thead>\n",
       "    <tr style=\"text-align: right;\">\n",
       "      <th>age</th>\n",
       "      <th>0</th>\n",
       "      <th>1</th>\n",
       "      <th>2</th>\n",
       "      <th>3</th>\n",
       "      <th>4</th>\n",
       "      <th>5</th>\n",
       "      <th>6</th>\n",
       "      <th>7</th>\n",
       "      <th>8</th>\n",
       "      <th>9</th>\n",
       "      <th>...</th>\n",
       "      <th>199</th>\n",
       "      <th>200</th>\n",
       "      <th>204</th>\n",
       "      <th>220</th>\n",
       "      <th>223</th>\n",
       "      <th>226</th>\n",
       "      <th>228</th>\n",
       "      <th>229</th>\n",
       "      <th></th>\n",
       "      <th>NULL</th>\n",
       "    </tr>\n",
       "    <tr>\n",
       "      <th>country</th>\n",
       "      <th></th>\n",
       "      <th></th>\n",
       "      <th></th>\n",
       "      <th></th>\n",
       "      <th></th>\n",
       "      <th></th>\n",
       "      <th></th>\n",
       "      <th></th>\n",
       "      <th></th>\n",
       "      <th></th>\n",
       "      <th></th>\n",
       "      <th></th>\n",
       "      <th></th>\n",
       "      <th></th>\n",
       "      <th></th>\n",
       "      <th></th>\n",
       "      <th></th>\n",
       "      <th></th>\n",
       "      <th></th>\n",
       "      <th></th>\n",
       "      <th></th>\n",
       "    </tr>\n",
       "  </thead>\n",
       "  <tbody>\n",
       "    <tr>\n",
       "      <th></th>\n",
       "      <td>0.0</td>\n",
       "      <td>5.0</td>\n",
       "      <td>0.0</td>\n",
       "      <td>0.0</td>\n",
       "      <td>0.0</td>\n",
       "      <td>0.0</td>\n",
       "      <td>0.0</td>\n",
       "      <td>0.0</td>\n",
       "      <td>0.0</td>\n",
       "      <td>0.0</td>\n",
       "      <td>...</td>\n",
       "      <td>0.0</td>\n",
       "      <td>0.0</td>\n",
       "      <td>0.0</td>\n",
       "      <td>0.0</td>\n",
       "      <td>0.0</td>\n",
       "      <td>0.0</td>\n",
       "      <td>0.0</td>\n",
       "      <td>0.0</td>\n",
       "      <td>0.0</td>\n",
       "      <td>5818.0</td>\n",
       "    </tr>\n",
       "    <tr>\n",
       "      <th>\\\"n/a\\\";\"54</th>\n",
       "      <td>0.0</td>\n",
       "      <td>0.0</td>\n",
       "      <td>0.0</td>\n",
       "      <td>0.0</td>\n",
       "      <td>0.0</td>\n",
       "      <td>0.0</td>\n",
       "      <td>0.0</td>\n",
       "      <td>0.0</td>\n",
       "      <td>0.0</td>\n",
       "      <td>0.0</td>\n",
       "      <td>...</td>\n",
       "      <td>0.0</td>\n",
       "      <td>0.0</td>\n",
       "      <td>0.0</td>\n",
       "      <td>0.0</td>\n",
       "      <td>0.0</td>\n",
       "      <td>0.0</td>\n",
       "      <td>0.0</td>\n",
       "      <td>0.0</td>\n",
       "      <td>2.0</td>\n",
       "      <td>0.0</td>\n",
       "    </tr>\n",
       "    <tr>\n",
       "      <th>afghanistan</th>\n",
       "      <td>0.0</td>\n",
       "      <td>0.0</td>\n",
       "      <td>0.0</td>\n",
       "      <td>0.0</td>\n",
       "      <td>0.0</td>\n",
       "      <td>0.0</td>\n",
       "      <td>0.0</td>\n",
       "      <td>0.0</td>\n",
       "      <td>0.0</td>\n",
       "      <td>0.0</td>\n",
       "      <td>...</td>\n",
       "      <td>0.0</td>\n",
       "      <td>0.0</td>\n",
       "      <td>0.0</td>\n",
       "      <td>0.0</td>\n",
       "      <td>0.0</td>\n",
       "      <td>0.0</td>\n",
       "      <td>0.0</td>\n",
       "      <td>0.0</td>\n",
       "      <td>0.0</td>\n",
       "      <td>0.0</td>\n",
       "    </tr>\n",
       "    <tr>\n",
       "      <th>albania</th>\n",
       "      <td>0.0</td>\n",
       "      <td>0.0</td>\n",
       "      <td>0.0</td>\n",
       "      <td>0.0</td>\n",
       "      <td>0.0</td>\n",
       "      <td>0.0</td>\n",
       "      <td>0.0</td>\n",
       "      <td>0.0</td>\n",
       "      <td>0.0</td>\n",
       "      <td>0.0</td>\n",
       "      <td>...</td>\n",
       "      <td>0.0</td>\n",
       "      <td>0.0</td>\n",
       "      <td>0.0</td>\n",
       "      <td>0.0</td>\n",
       "      <td>0.0</td>\n",
       "      <td>0.0</td>\n",
       "      <td>0.0</td>\n",
       "      <td>0.0</td>\n",
       "      <td>0.0</td>\n",
       "      <td>0.0</td>\n",
       "    </tr>\n",
       "    <tr>\n",
       "      <th>alderney</th>\n",
       "      <td>0.0</td>\n",
       "      <td>0.0</td>\n",
       "      <td>0.0</td>\n",
       "      <td>0.0</td>\n",
       "      <td>0.0</td>\n",
       "      <td>0.0</td>\n",
       "      <td>0.0</td>\n",
       "      <td>0.0</td>\n",
       "      <td>0.0</td>\n",
       "      <td>0.0</td>\n",
       "      <td>...</td>\n",
       "      <td>0.0</td>\n",
       "      <td>0.0</td>\n",
       "      <td>0.0</td>\n",
       "      <td>0.0</td>\n",
       "      <td>0.0</td>\n",
       "      <td>0.0</td>\n",
       "      <td>0.0</td>\n",
       "      <td>0.0</td>\n",
       "      <td>0.0</td>\n",
       "      <td>4.0</td>\n",
       "    </tr>\n",
       "    <tr>\n",
       "      <th>...</th>\n",
       "      <td>...</td>\n",
       "      <td>...</td>\n",
       "      <td>...</td>\n",
       "      <td>...</td>\n",
       "      <td>...</td>\n",
       "      <td>...</td>\n",
       "      <td>...</td>\n",
       "      <td>...</td>\n",
       "      <td>...</td>\n",
       "      <td>...</td>\n",
       "      <td>...</td>\n",
       "      <td>...</td>\n",
       "      <td>...</td>\n",
       "      <td>...</td>\n",
       "      <td>...</td>\n",
       "      <td>...</td>\n",
       "      <td>...</td>\n",
       "      <td>...</td>\n",
       "      <td>...</td>\n",
       "      <td>...</td>\n",
       "      <td>...</td>\n",
       "    </tr>\n",
       "    <tr>\n",
       "      <th>vietnam</th>\n",
       "      <td>0.0</td>\n",
       "      <td>0.0</td>\n",
       "      <td>0.0</td>\n",
       "      <td>0.0</td>\n",
       "      <td>0.0</td>\n",
       "      <td>0.0</td>\n",
       "      <td>0.0</td>\n",
       "      <td>0.0</td>\n",
       "      <td>0.0</td>\n",
       "      <td>0.0</td>\n",
       "      <td>...</td>\n",
       "      <td>0.0</td>\n",
       "      <td>0.0</td>\n",
       "      <td>0.0</td>\n",
       "      <td>0.0</td>\n",
       "      <td>0.0</td>\n",
       "      <td>0.0</td>\n",
       "      <td>0.0</td>\n",
       "      <td>0.0</td>\n",
       "      <td>0.0</td>\n",
       "      <td>2.0</td>\n",
       "    </tr>\n",
       "    <tr>\n",
       "      <th>we`re global!</th>\n",
       "      <td>0.0</td>\n",
       "      <td>0.0</td>\n",
       "      <td>0.0</td>\n",
       "      <td>0.0</td>\n",
       "      <td>0.0</td>\n",
       "      <td>0.0</td>\n",
       "      <td>0.0</td>\n",
       "      <td>0.0</td>\n",
       "      <td>0.0</td>\n",
       "      <td>0.0</td>\n",
       "      <td>...</td>\n",
       "      <td>0.0</td>\n",
       "      <td>0.0</td>\n",
       "      <td>0.0</td>\n",
       "      <td>0.0</td>\n",
       "      <td>0.0</td>\n",
       "      <td>0.0</td>\n",
       "      <td>0.0</td>\n",
       "      <td>0.0</td>\n",
       "      <td>0.0</td>\n",
       "      <td>1.0</td>\n",
       "    </tr>\n",
       "    <tr>\n",
       "      <th>x</th>\n",
       "      <td>0.0</td>\n",
       "      <td>0.0</td>\n",
       "      <td>0.0</td>\n",
       "      <td>0.0</td>\n",
       "      <td>0.0</td>\n",
       "      <td>0.0</td>\n",
       "      <td>0.0</td>\n",
       "      <td>0.0</td>\n",
       "      <td>0.0</td>\n",
       "      <td>0.0</td>\n",
       "      <td>...</td>\n",
       "      <td>0.0</td>\n",
       "      <td>0.0</td>\n",
       "      <td>0.0</td>\n",
       "      <td>0.0</td>\n",
       "      <td>0.0</td>\n",
       "      <td>0.0</td>\n",
       "      <td>0.0</td>\n",
       "      <td>0.0</td>\n",
       "      <td>0.0</td>\n",
       "      <td>0.0</td>\n",
       "    </tr>\n",
       "    <tr>\n",
       "      <th>yugoslavia</th>\n",
       "      <td>0.0</td>\n",
       "      <td>0.0</td>\n",
       "      <td>0.0</td>\n",
       "      <td>0.0</td>\n",
       "      <td>0.0</td>\n",
       "      <td>0.0</td>\n",
       "      <td>0.0</td>\n",
       "      <td>0.0</td>\n",
       "      <td>0.0</td>\n",
       "      <td>0.0</td>\n",
       "      <td>...</td>\n",
       "      <td>0.0</td>\n",
       "      <td>0.0</td>\n",
       "      <td>0.0</td>\n",
       "      <td>0.0</td>\n",
       "      <td>0.0</td>\n",
       "      <td>0.0</td>\n",
       "      <td>0.0</td>\n",
       "      <td>0.0</td>\n",
       "      <td>0.0</td>\n",
       "      <td>0.0</td>\n",
       "    </tr>\n",
       "    <tr>\n",
       "      <th>zimbabwe</th>\n",
       "      <td>0.0</td>\n",
       "      <td>0.0</td>\n",
       "      <td>0.0</td>\n",
       "      <td>0.0</td>\n",
       "      <td>0.0</td>\n",
       "      <td>0.0</td>\n",
       "      <td>0.0</td>\n",
       "      <td>0.0</td>\n",
       "      <td>0.0</td>\n",
       "      <td>0.0</td>\n",
       "      <td>...</td>\n",
       "      <td>0.0</td>\n",
       "      <td>0.0</td>\n",
       "      <td>0.0</td>\n",
       "      <td>0.0</td>\n",
       "      <td>0.0</td>\n",
       "      <td>0.0</td>\n",
       "      <td>0.0</td>\n",
       "      <td>0.0</td>\n",
       "      <td>0.0</td>\n",
       "      <td>1.0</td>\n",
       "    </tr>\n",
       "  </tbody>\n",
       "</table>\n",
       "<p>175 rows × 120 columns</p>\n",
       "</div>"
      ],
      "text/plain": [
       "age              0    1    2    3    4    5    6    7    8    9  ...  199  \\\n",
       "country                                                          ...        \n",
       "               0.0  5.0  0.0  0.0  0.0  0.0  0.0  0.0  0.0  0.0  ...  0.0   \n",
       "\\\"n/a\\\";\"54    0.0  0.0  0.0  0.0  0.0  0.0  0.0  0.0  0.0  0.0  ...  0.0   \n",
       "afghanistan    0.0  0.0  0.0  0.0  0.0  0.0  0.0  0.0  0.0  0.0  ...  0.0   \n",
       "albania        0.0  0.0  0.0  0.0  0.0  0.0  0.0  0.0  0.0  0.0  ...  0.0   \n",
       "alderney       0.0  0.0  0.0  0.0  0.0  0.0  0.0  0.0  0.0  0.0  ...  0.0   \n",
       "...            ...  ...  ...  ...  ...  ...  ...  ...  ...  ...  ...  ...   \n",
       "vietnam        0.0  0.0  0.0  0.0  0.0  0.0  0.0  0.0  0.0  0.0  ...  0.0   \n",
       "we`re global!  0.0  0.0  0.0  0.0  0.0  0.0  0.0  0.0  0.0  0.0  ...  0.0   \n",
       "x              0.0  0.0  0.0  0.0  0.0  0.0  0.0  0.0  0.0  0.0  ...  0.0   \n",
       "yugoslavia     0.0  0.0  0.0  0.0  0.0  0.0  0.0  0.0  0.0  0.0  ...  0.0   \n",
       "zimbabwe       0.0  0.0  0.0  0.0  0.0  0.0  0.0  0.0  0.0  0.0  ...  0.0   \n",
       "\n",
       "age            200  204  220  223  226  228  229         NULL  \n",
       "country                                                        \n",
       "               0.0  0.0  0.0  0.0  0.0  0.0  0.0  0.0  5818.0  \n",
       "\\\"n/a\\\";\"54    0.0  0.0  0.0  0.0  0.0  0.0  0.0  2.0     0.0  \n",
       "afghanistan    0.0  0.0  0.0  0.0  0.0  0.0  0.0  0.0     0.0  \n",
       "albania        0.0  0.0  0.0  0.0  0.0  0.0  0.0  0.0     0.0  \n",
       "alderney       0.0  0.0  0.0  0.0  0.0  0.0  0.0  0.0     4.0  \n",
       "...            ...  ...  ...  ...  ...  ...  ...  ...     ...  \n",
       "vietnam        0.0  0.0  0.0  0.0  0.0  0.0  0.0  0.0     2.0  \n",
       "we`re global!  0.0  0.0  0.0  0.0  0.0  0.0  0.0  0.0     1.0  \n",
       "x              0.0  0.0  0.0  0.0  0.0  0.0  0.0  0.0     0.0  \n",
       "yugoslavia     0.0  0.0  0.0  0.0  0.0  0.0  0.0  0.0     0.0  \n",
       "zimbabwe       0.0  0.0  0.0  0.0  0.0  0.0  0.0  0.0     1.0  \n",
       "\n",
       "[175 rows x 120 columns]"
      ]
     },
     "execution_count": 98,
     "metadata": {},
     "output_type": "execute_result"
    }
   ],
   "source": [
    "geo_age"
   ]
  },
  {
   "cell_type": "markdown",
   "metadata": {
    "colab_type": "text",
    "id": "lVz_6a7W_EyI"
   },
   "source": [
    "There are some unusual-looking values in the country names, and some implausibly high numbers in the column labels."
   ]
  },
  {
   "cell_type": "code",
   "execution_count": null,
   "metadata": {
    "colab": {
     "base_uri": "https://localhost:8080/",
     "height": 125
    },
    "colab_type": "code",
    "id": "mYPv3q3jVCv5",
    "outputId": "5490dbda-c256-4ff2-e7cf-24f974952d70"
   },
   "outputs": [],
   "source": [
    "geo_age.index"
   ]
  },
  {
   "cell_type": "code",
   "execution_count": null,
   "metadata": {
    "colab": {
     "base_uri": "https://localhost:8080/",
     "height": 251
    },
    "colab_type": "code",
    "id": "dLRvRYfpVCv7",
    "outputId": "56bcc633-6eab-4ecf-f153-be7857a6373f"
   },
   "outputs": [],
   "source": [
    "geo_age.columns.values"
   ]
  },
  {
   "cell_type": "markdown",
   "metadata": {
    "colab_type": "text",
    "id": "M8PwR_yG_sii"
   },
   "source": [
    "This will trim the columns to ages between 0 and 84:"
   ]
  },
  {
   "cell_type": "code",
   "execution_count": null,
   "metadata": {
    "colab": {
     "base_uri": "https://localhost:8080/",
     "height": 470
    },
    "colab_type": "code",
    "id": "ew7YwC4QVCv9",
    "outputId": "ee8a874c-47a6-4de2-d42f-d0a6fc90b9f2"
   },
   "outputs": [],
   "source": [
    "geo_age[list(range(85))]"
   ]
  },
  {
   "cell_type": "markdown",
   "metadata": {
    "colab_type": "text",
    "id": "gljq-xrwVCwF"
   },
   "source": [
    "This will give us a list of countries to subset on:"
   ]
  },
  {
   "cell_type": "code",
   "execution_count": null,
   "metadata": {
    "colab": {
     "base_uri": "https://localhost:8080/",
     "height": 125
    },
    "colab_type": "code",
    "id": "PzHmD56_VCwJ",
    "outputId": "558f0725-6916-4cc3-87b3-0cc47b438639"
   },
   "outputs": [],
   "source": [
    "countrysubset = geo_age.index[geo_age.sum(axis=1) > 10]\n",
    "countrysubset"
   ]
  },
  {
   "cell_type": "code",
   "execution_count": null,
   "metadata": {},
   "outputs": [],
   "source": [
    "geo_age.columns[geo_age.sum(axis=0) > 100]"
   ]
  },
  {
   "cell_type": "code",
   "execution_count": null,
   "metadata": {
    "colab": {
     "base_uri": "https://localhost:8080/",
     "height": 457
    },
    "colab_type": "code",
    "id": "JJGwbq1IVCwK",
    "outputId": "21d3eabd-04c5-4681-bbe8-677a15b6a886"
   },
   "outputs": [],
   "source": [
    "subset = geo_age.loc[countrysubset, range(84)]\n",
    "subset"
   ]
  },
  {
   "cell_type": "markdown",
   "metadata": {
    "colab_type": "text",
    "id": "mxEbzpmGhefa"
   },
   "source": [
    "Finally, if we like this organization of the data and want to save it in another format -- let's say we now want to save it to a spreadsheet and share it with someone who can load it in Excel. We can do that directly in Pandas by making up a filename:"
   ]
  },
  {
   "cell_type": "code",
   "execution_count": null,
   "metadata": {
    "colab": {},
    "colab_type": "code",
    "id": "zyz_I6EjhgAI"
   },
   "outputs": [],
   "source": [
    "subset.to_excel(\"geo_age_subset.xlsx\")"
   ]
  },
  {
   "cell_type": "code",
   "execution_count": null,
   "metadata": {
    "colab": {},
    "colab_type": "code",
    "id": "-sfNIg5FiZTt"
   },
   "outputs": [],
   "source": [
    "conn.close()"
   ]
  },
  {
   "cell_type": "markdown",
   "metadata": {},
   "source": [
    "If you are using Google Colab, you may want to set the path to a full Google Drive path to save the file indefinitely, or you can download it from the side panel in Jupyter before you end your Colab session. \n",
    "\n",
    "Although Colab has local storage space and will create the file without a Google Drive path, the file will be lost when you shut down your Colab session unless you download it first. Colab will save your Jupyter notebook itself, however."
   ]
  },
  {
   "cell_type": "code",
   "execution_count": null,
   "metadata": {},
   "outputs": [],
   "source": []
  }
 ],
 "metadata": {
  "colab": {
   "collapsed_sections": [],
   "name": "Pandas_sql_intro.ipynb",
   "provenance": []
  },
  "kernelspec": {
   "display_name": "Python 3 (ipykernel)",
   "language": "python",
   "name": "python3"
  },
  "language_info": {
   "codemirror_mode": {
    "name": "ipython",
    "version": 3
   },
   "file_extension": ".py",
   "mimetype": "text/x-python",
   "name": "python",
   "nbconvert_exporter": "python",
   "pygments_lexer": "ipython3",
   "version": "3.9.12"
  }
 },
 "nbformat": 4,
 "nbformat_minor": 4
}
